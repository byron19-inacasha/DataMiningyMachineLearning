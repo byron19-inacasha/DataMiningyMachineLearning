{
  "cells": [
    {
      "cell_type": "markdown",
      "source": [
        "# 12 Advanced Recurrent Neural Networks\n",
        "\n",
        "Advanced Neural Network architectures represent significant advancements in the field of deep learning, which are most used in the domain of sequence modeling and processing. These architectures build upon the traditional feedforward neural networks and introduce recurrent connections, allowing them to exhibit temporal dynamics and memory capabilities.\n",
        "\n",
        "* The Elman RNN employs a simple recurrent loop in its hidden layer, enabling it to capture short-term temporal dependencies, making it suitable for applications such as speech recognition and time series analysis.\n",
        "* The Jordan RNN possesses feedback connections from the output layer to the hidden layer, rendering it capable of modeling longer-term dependencies, which finds applications in machine translation and language modeling tasks.\n",
        "* The Bidirectional RNN combines both forward and backward temporal processing, allowing it to consider both past and future context in its predictions, making it effective in natural language processing tasks such as sentiment analysis and named entity recognition.\n",
        "\n",
        "These advanced neural network architectures significantly expand the modeling capabilities of traditional neural networks and have become indispensable tools in various sequential data processing applications."
      ],
      "metadata": {
        "collapsed": false,
        "id": "tj6LUBN-buzm"
      }
    },
    {
      "cell_type": "markdown",
      "source": [
        "### Exercise\n",
        "Use the IMDB movie reviews dataset to perform sentiment analysis with a Elman, Jordan and Bidirectional RNN.\n",
        "Highlight the differences on the performance of each architecture."
      ],
      "metadata": {
        "collapsed": false,
        "id": "zvrCgy1gbuzo"
      }
    },
    {
      "cell_type": "code",
      "execution_count": 14,
      "metadata": {
        "collapsed": true,
        "id": "wdhkFDQPbuzo"
      },
      "outputs": [],
      "source": [
        "from keras.datasets import imdb\n",
        "from tensorflow.keras.preprocessing import sequence  # Cambio: Importar pad_sequences desde tensorflow.keras\n",
        "from keras.models import Sequential\n",
        "from keras.layers import Embedding, SimpleRNN, Dense, Bidirectional"
      ]
    },
    {
      "cell_type": "markdown",
      "source": [
        "1. Load the IMDB movie reviews dataset"
      ],
      "metadata": {
        "collapsed": false,
        "id": "Fe7TOffNbuzo"
      }
    },
    {
      "cell_type": "code",
      "execution_count": 11,
      "outputs": [],
      "source": [
        "max_features = 5000  # Number of words to consider as features\n",
        "max_len_short = 100  # Maximum sequence length for short sequences\n",
        "max_len_long = 500   # Maximum sequence length for long sequences\n",
        "\n",
        "(x_train, y_train), (x_test, y_test) = imdb.load_data(num_words=max_features)\n"
      ],
      "metadata": {
        "id": "G6O7Y1rRbuzp"
      }
    },
    {
      "cell_type": "markdown",
      "source": [
        "2. Pad sequences to a fixed length for RNN input"
      ],
      "metadata": {
        "collapsed": false,
        "id": "2e-ssVzHbuzp"
      }
    },
    {
      "cell_type": "code",
      "execution_count": 15,
      "outputs": [],
      "source": [
        "x_train_short = sequence.pad_sequences(x_train, maxlen=max_len_short)\n",
        "x_test_short = sequence.pad_sequences(x_test, maxlen=max_len_short)\n",
        "\n",
        "x_train_long = sequence.pad_sequences(x_train, maxlen=max_len_long)\n",
        "x_test_long = sequence.pad_sequences(x_test, maxlen=max_len_long)"
      ],
      "metadata": {
        "id": "2RfB-DVqbuzp"
      }
    },
    {
      "cell_type": "markdown",
      "source": [
        "3. Build the distinct RNN models"
      ],
      "metadata": {
        "collapsed": false,
        "id": "OBOfuEDBbuzp"
      }
    },
    {
      "cell_type": "code",
      "execution_count": 16,
      "outputs": [],
      "source": [
        "def build_bidirectional_rnn_model():\n",
        "    model = Sequential()\n",
        "    model.add(Embedding(max_features, 32))\n",
        "    model.add(Bidirectional(SimpleRNN(32, activation='relu'), merge_mode='concat'))\n",
        "    model.add(Dense(1, activation='sigmoid'))\n",
        "    return model"
      ],
      "metadata": {
        "id": "gvYNweRnbuzp"
      }
    },
    {
      "cell_type": "markdown",
      "source": [
        "4. Train and evaluate the RNN model"
      ],
      "metadata": {
        "collapsed": false,
        "id": "qgRXGBDAbuzq"
      }
    },
    {
      "cell_type": "code",
      "execution_count": 17,
      "outputs": [],
      "source": [
        "def train_and_evaluate_model(model, x_train, y_train, x_test, y_test):\n",
        "    model.compile(optimizer='adam', loss='binary_crossentropy', metrics=['accuracy'])\n",
        "    history = model.fit(x_train, y_train, epochs=5, batch_size=128, validation_split=0.2)\n",
        "    loss, accuracy = model.evaluate(x_test, y_test)\n",
        "    return loss, accuracy, history"
      ],
      "metadata": {
        "id": "ysn-rtqPbuzq"
      }
    },
    {
      "cell_type": "markdown",
      "source": [
        "5. Train and evaluate the RNN model on short sequences"
      ],
      "metadata": {
        "collapsed": false,
        "id": "aCfYFP5ebuzq"
      }
    },
    {
      "cell_type": "code",
      "execution_count": 18,
      "outputs": [
        {
          "output_type": "stream",
          "name": "stdout",
          "text": [
            "\n",
            "Training Bidirectional RNN model on short sequences:\n",
            "Epoch 1/5\n",
            "157/157 [==============================] - 13s 63ms/step - loss: 0.6611 - accuracy: 0.6170 - val_loss: 0.5936 - val_accuracy: 0.7300\n",
            "Epoch 2/5\n",
            "157/157 [==============================] - 11s 67ms/step - loss: 0.4415 - accuracy: 0.8089 - val_loss: 0.4134 - val_accuracy: 0.8084\n",
            "Epoch 3/5\n",
            "157/157 [==============================] - 11s 68ms/step - loss: 0.3047 - accuracy: 0.8741 - val_loss: 0.3548 - val_accuracy: 0.8440\n",
            "Epoch 4/5\n",
            "157/157 [==============================] - 11s 68ms/step - loss: 0.2488 - accuracy: 0.9027 - val_loss: 0.3650 - val_accuracy: 0.8416\n",
            "Epoch 5/5\n",
            "157/157 [==============================] - 11s 71ms/step - loss: 0.2055 - accuracy: 0.9201 - val_loss: 0.3998 - val_accuracy: 0.8376\n",
            "782/782 [==============================] - 8s 10ms/step - loss: 0.3970 - accuracy: 0.8389\n"
          ]
        }
      ],
      "source": [
        "print(\"\\nTraining Bidirectional RNN model on short sequences:\")  # Cambio: Añadir impresión para el nuevo modelo\n",
        "bidirectional_model_short = build_bidirectional_rnn_model()\n",
        "loss_bidirectional_short, accuracy_bidirectional_short, history_bidirectional_short = train_and_evaluate_model(\n",
        "    bidirectional_model_short, x_train_short, y_train, x_test_short, y_test\n",
        ")"
      ],
      "metadata": {
        "colab": {
          "base_uri": "https://localhost:8080/"
        },
        "id": "6vvl8mKBbuzq",
        "outputId": "e06f7956-b109-447d-c498-3a797d5b0fbe"
      }
    },
    {
      "cell_type": "markdown",
      "source": [
        "6. Train and evaluate the RNN model on long sequences"
      ],
      "metadata": {
        "collapsed": false,
        "id": "2oHIO4nmbuzr"
      }
    },
    {
      "cell_type": "code",
      "execution_count": 19,
      "outputs": [
        {
          "output_type": "stream",
          "name": "stdout",
          "text": [
            "\n",
            "Training Bidirectional RNN model on long sequences:\n",
            "Epoch 1/5\n",
            "157/157 [==============================] - 53s 320ms/step - loss: 0.6604 - accuracy: 0.6023 - val_loss: 0.6107 - val_accuracy: 0.6868\n",
            "Epoch 2/5\n",
            "157/157 [==============================] - 51s 323ms/step - loss: 0.4388 - accuracy: 0.8059 - val_loss: 0.4203 - val_accuracy: 0.8244\n",
            "Epoch 3/5\n",
            "157/157 [==============================] - 50s 321ms/step - loss: 0.3130 - accuracy: 0.8688 - val_loss: 0.3957 - val_accuracy: 0.8314\n",
            "Epoch 4/5\n",
            "157/157 [==============================] - 50s 321ms/step - loss: 0.2628 - accuracy: 0.8956 - val_loss: 0.3228 - val_accuracy: 0.8672\n",
            "Epoch 5/5\n",
            "157/157 [==============================] - 52s 329ms/step - loss: 0.2271 - accuracy: 0.9118 - val_loss: 0.3366 - val_accuracy: 0.8644\n",
            "782/782 [==============================] - 31s 40ms/step - loss: 0.3465 - accuracy: 0.8589\n"
          ]
        }
      ],
      "source": [
        "print(\"\\nTraining Bidirectional RNN model on long sequences:\")  # Cambio: Añadir impresión para el nuevo modelo\n",
        "bidirectional_model_long = build_bidirectional_rnn_model()\n",
        "loss_bidirectional_long, accuracy_bidirectional_long, history_bidirectional_long = train_and_evaluate_model(\n",
        "    bidirectional_model_long, x_train_long, y_train, x_test_long, y_test\n",
        ")\n"
      ],
      "metadata": {
        "colab": {
          "base_uri": "https://localhost:8080/"
        },
        "id": "9owdevB-buzr",
        "outputId": "06fa0f43-4032-437d-acb0-9c44f018197f"
      }
    },
    {
      "cell_type": "markdown",
      "source": [
        "7. Compare the results"
      ],
      "metadata": {
        "collapsed": false,
        "id": "SJAu8yCXbuzr"
      }
    },
    {
      "cell_type": "code",
      "execution_count": 20,
      "outputs": [
        {
          "output_type": "stream",
          "name": "stdout",
          "text": [
            "\n",
            "Results on Bidirectional Short Sequences:\n",
            "Loss: 0.3970, Accuracy: 0.8389\n",
            "\n",
            "Results on Bidirectional Long Sequences:\n",
            "Loss: 0.3465, Accuracy: 0.8589\n"
          ]
        }
      ],
      "source": [
        "print(\"\\nResults on Bidirectional Short Sequences:\")  # Cambio: Añadir impresión para el nuevo modelo\n",
        "print(f\"Loss: {loss_bidirectional_short:.4f}, Accuracy: {accuracy_bidirectional_short:.4f}\")\n",
        "\n",
        "print(\"\\nResults on Bidirectional Long Sequences:\")  # Cambio: Añadir impresión para el nuevo modelo\n",
        "print(f\"Loss: {loss_bidirectional_long:.4f}, Accuracy: {accuracy_bidirectional_long:.4f}\")"
      ],
      "metadata": {
        "colab": {
          "base_uri": "https://localhost:8080/"
        },
        "id": "beWEyV6hbuzr",
        "outputId": "b1926ad8-77dc-4c2f-a418-f974795e00d4"
      }
    }
  ],
  "metadata": {
    "kernelspec": {
      "display_name": "Python 3",
      "language": "python",
      "name": "python3"
    },
    "language_info": {
      "codemirror_mode": {
        "name": "ipython",
        "version": 2
      },
      "file_extension": ".py",
      "mimetype": "text/x-python",
      "name": "python",
      "nbconvert_exporter": "python",
      "pygments_lexer": "ipython2",
      "version": "2.7.6"
    },
    "colab": {
      "provenance": []
    }
  },
  "nbformat": 4,
  "nbformat_minor": 0
}