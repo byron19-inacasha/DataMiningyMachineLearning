{
 "cells": [
  {
   "cell_type": "markdown",
   "source": [
    "# 12 Advanced Recurrent Neural Networks\n",
    "\n",
    "Advanced Neural Network architectures represent significant advancements in the field of deep learning, which are most used in the domain of sequence modeling and processing. These architectures build upon the traditional feedforward neural networks and introduce recurrent connections, allowing them to exhibit temporal dynamics and memory capabilities.\n",
    "\n",
    "* The Elman RNN employs a simple recurrent loop in its hidden layer, enabling it to capture short-term temporal dependencies, making it suitable for applications such as speech recognition and time series analysis.\n",
    "* The Jordan RNN possesses feedback connections from the output layer to the hidden layer, rendering it capable of modeling longer-term dependencies, which finds applications in machine translation and language modeling tasks.\n",
    "* The Bidirectional RNN combines both forward and backward temporal processing, allowing it to consider both past and future context in its predictions, making it effective in natural language processing tasks such as sentiment analysis and named entity recognition.\n",
    "\n",
    "These advanced neural network architectures significantly expand the modeling capabilities of traditional neural networks and have become indispensable tools in various sequential data processing applications."
   ],
   "metadata": {
    "collapsed": false
   }
  },
  {
   "cell_type": "markdown",
   "source": [
    "### Exercise\n",
    "Use the IMDB movie reviews dataset to perform sentiment analysis with a Elman, Jordan and Bidirectional RNN.\n",
    "Highlight the differences on the performance of each architecture."
   ],
   "metadata": {
    "collapsed": false
   }
  },
  {
   "cell_type": "code",
   "execution_count": 1,
   "metadata": {
    "collapsed": true
   },
   "outputs": [],
   "source": [
    "from keras.datasets import imdb\n",
    "from keras.preprocessing import sequence\n",
    "from keras.models import Sequential\n",
    "from keras.layers import Embedding, SimpleRNN, Dense, Bidirectional"
   ]
  },
  {
   "cell_type": "markdown",
   "source": [
    "1. Load the IMDB movie reviews dataset"
   ],
   "metadata": {
    "collapsed": false
   }
  },
  {
   "cell_type": "code",
   "execution_count": 2,
   "outputs": [],
   "source": [
    "max_features = 5000  # Number of words to consider as features\n",
    "max_len_short = 100  # Maximum sequence length for short sequences\n",
    "max_len_long = 500   # Maximum sequence length for long sequences\n",
    "\n",
    "(x_train, y_train), (x_test, y_test) = imdb.load_data(num_words=max_features)"
   ],
   "metadata": {
    "collapsed": false
   }
  },
  {
   "cell_type": "markdown",
   "source": [
    "2. Pad sequences to a fixed length for RNN input"
   ],
   "metadata": {
    "collapsed": false
   }
  },
  {
   "cell_type": "code",
   "execution_count": 3,
   "outputs": [],
   "source": [
    "x_train_short = sequence.pad_sequences(x_train, maxlen=max_len_short)\n",
    "x_test_short = sequence.pad_sequences(x_test, maxlen=max_len_short)\n",
    "\n",
    "x_train_long = sequence.pad_sequences(x_train, maxlen=max_len_long)\n",
    "x_test_long = sequence.pad_sequences(x_test, maxlen=max_len_long)"
   ],
   "metadata": {
    "collapsed": false
   }
  },
  {
   "cell_type": "markdown",
   "source": [
    "3. Build the distinct RNN models"
   ],
   "metadata": {
    "collapsed": false
   }
  },
  {
   "cell_type": "code",
   "execution_count": 4,
   "outputs": [],
   "source": [
    "def build_elman_rnn_model():\n",
    "    model = Sequential()\n",
    "    model.add(Embedding(max_features, 32))\n",
    "    model.add(SimpleRNN(32, activation='relu'))\n",
    "    model.add(Dense(1, activation='sigmoid'))\n",
    "    return model\n",
    "\n",
    "def build_jordan_rnn_model():\n",
    "    model = Sequential()\n",
    "    model.add(Embedding(max_features, 32))\n",
    "    model.add(SimpleRNN(32, activation='relu', return_sequences=True))\n",
    "    model.add(Dense(1, activation='sigmoid'))\n",
    "    return model\n",
    "\n",
    "def build_bidirectional_rnn_model():\n",
    "    model = Sequential()\n",
    "    model.add(Embedding(max_features, 32))\n",
    "    model.add(Bidirectional(SimpleRNN(32, activation='relu')))\n",
    "    model.add(Dense(1, activation='sigmoid'))\n",
    "    return model"
   ],
   "metadata": {
    "collapsed": false
   }
  },
  {
   "cell_type": "markdown",
   "source": [
    "4. Train and evaluate the RNN model"
   ],
   "metadata": {
    "collapsed": false
   }
  },
  {
   "cell_type": "code",
   "execution_count": 5,
   "outputs": [],
   "source": [
    "def train_and_evaluate_model(model, x_train, y_train, x_test, y_test):\n",
    "    model.compile(optimizer='adam', loss='binary_crossentropy', metrics=['accuracy'])\n",
    "    history = model.fit(x_train, y_train, epochs=5, batch_size=128, validation_split=0.2)\n",
    "    loss, accuracy = model.evaluate(x_test, y_test)\n",
    "    return loss, accuracy, history"
   ],
   "metadata": {
    "collapsed": false
   }
  },
  {
   "cell_type": "markdown",
   "source": [
    "5. Train and evaluate the RNN model on short sequences"
   ],
   "metadata": {
    "collapsed": false
   }
  },
  {
   "cell_type": "code",
   "execution_count": 6,
   "outputs": [
    {
     "name": "stdout",
     "output_type": "stream",
     "text": [
      "\n",
      "Training RNN model on short sequences:\n",
      "Epoch 1/5\n",
      "157/157 [==============================] - 3s 13ms/step - loss: 0.6390 - accuracy: 0.6231 - val_loss: 0.4731 - val_accuracy: 0.7810\n",
      "Epoch 2/5\n",
      "157/157 [==============================] - 2s 12ms/step - loss: 0.3917 - accuracy: 0.8248 - val_loss: 0.3754 - val_accuracy: 0.8330\n",
      "Epoch 3/5\n",
      "157/157 [==============================] - 2s 11ms/step - loss: 0.3056 - accuracy: 0.8717 - val_loss: 0.3656 - val_accuracy: 0.8352\n",
      "Epoch 4/5\n",
      "157/157 [==============================] - 2s 11ms/step - loss: 0.2602 - accuracy: 0.8955 - val_loss: 0.3997 - val_accuracy: 0.8270\n",
      "Epoch 5/5\n",
      "157/157 [==============================] - 2s 11ms/step - loss: 0.2232 - accuracy: 0.9136 - val_loss: 0.4182 - val_accuracy: 0.8398\n",
      "782/782 [==============================] - 2s 3ms/step - loss: 0.4152 - accuracy: 0.8406\n"
     ]
    }
   ],
   "source": [
    "print(\"\\nTraining RNN model on short sequences:\")\n",
    "rnn_model_short = build_elman_rnn_model()\n",
    "loss_short, accuracy_short, history_short = train_and_evaluate_model(\n",
    "    rnn_model_short, x_train_short, y_train, x_test_short, y_test\n",
    ")"
   ],
   "metadata": {
    "collapsed": false
   }
  },
  {
   "cell_type": "markdown",
   "source": [
    "6. Train and evaluate the RNN model on long sequences"
   ],
   "metadata": {
    "collapsed": false
   }
  },
  {
   "cell_type": "code",
   "execution_count": 7,
   "outputs": [
    {
     "name": "stdout",
     "output_type": "stream",
     "text": [
      "\n",
      "Training Elman RNN model on long sequences:\n",
      "Epoch 1/5\n",
      "157/157 [==============================] - 9s 50ms/step - loss: 0.6147 - accuracy: 0.6549 - val_loss: 0.4462 - val_accuracy: 0.7996\n",
      "Epoch 2/5\n",
      "157/157 [==============================] - 8s 53ms/step - loss: 0.4551 - accuracy: 0.7978 - val_loss: 0.6315 - val_accuracy: 0.6722\n",
      "Epoch 3/5\n",
      "157/157 [==============================] - 8s 53ms/step - loss: 0.4094 - accuracy: 0.8235 - val_loss: 0.3864 - val_accuracy: 0.8388\n",
      "Epoch 4/5\n",
      "157/157 [==============================] - 12s 78ms/step - loss: 0.3119 - accuracy: 0.8727 - val_loss: 0.3699 - val_accuracy: 0.8494\n",
      "Epoch 5/5\n",
      "157/157 [==============================] - 13s 80ms/step - loss: 0.3034 - accuracy: 0.8760 - val_loss: 0.3720 - val_accuracy: 0.8426\n",
      "782/782 [==============================] - 10s 13ms/step - loss: 0.3697 - accuracy: 0.8423\n"
     ]
    }
   ],
   "source": [
    "print(\"\\nTraining Elman RNN model on long sequences:\")\n",
    "rnn_model_long = build_elman_rnn_model()\n",
    "loss_long, accuracy_long, history_long = train_and_evaluate_model(\n",
    "    rnn_model_long, x_train_long, y_train, x_test_long, y_test\n",
    ")"
   ],
   "metadata": {
    "collapsed": false
   }
  },
  {
   "cell_type": "markdown",
   "source": [
    "7. Compare the results"
   ],
   "metadata": {
    "collapsed": false
   }
  },
  {
   "cell_type": "code",
   "execution_count": 8,
   "outputs": [
    {
     "name": "stdout",
     "output_type": "stream",
     "text": [
      "\n",
      "Results on Short Sequences:\n",
      "Loss: 0.4152, Accuracy: 0.8406\n",
      "\n",
      "Results on Long Sequences:\n",
      "Loss: 0.3697, Accuracy: 0.8423\n"
     ]
    }
   ],
   "source": [
    "print(\"\\nResults on Short Sequences:\")\n",
    "print(f\"Loss: {loss_short:.4f}, Accuracy: {accuracy_short:.4f}\")\n",
    "\n",
    "print(\"\\nResults on Long Sequences:\")\n",
    "print(f\"Loss: {loss_long:.4f}, Accuracy: {accuracy_long:.4f}\")"
   ],
   "metadata": {
    "collapsed": false
   }
  }
 ],
 "metadata": {
  "kernelspec": {
   "display_name": "Python 3",
   "language": "python",
   "name": "python3"
  },
  "language_info": {
   "codemirror_mode": {
    "name": "ipython",
    "version": 2
   },
   "file_extension": ".py",
   "mimetype": "text/x-python",
   "name": "python",
   "nbconvert_exporter": "python",
   "pygments_lexer": "ipython2",
   "version": "2.7.6"
  }
 },
 "nbformat": 4,
 "nbformat_minor": 0
}
