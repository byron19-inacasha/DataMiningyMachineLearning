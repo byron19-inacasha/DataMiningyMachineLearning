{
  "cells": [
    {
      "cell_type": "markdown",
      "source": [
        "# 12 Advanced Recurrent Neural Networks\n",
        "\n",
        "Advanced Neural Network architectures represent significant advancements in the field of deep learning, which are most used in the domain of sequence modeling and processing. These architectures build upon the traditional feedforward neural networks and introduce recurrent connections, allowing them to exhibit temporal dynamics and memory capabilities.\n",
        "\n",
        "* The Elman RNN employs a simple recurrent loop in its hidden layer, enabling it to capture short-term temporal dependencies, making it suitable for applications such as speech recognition and time series analysis.\n",
        "* The Jordan RNN possesses feedback connections from the output layer to the hidden layer, rendering it capable of modeling longer-term dependencies, which finds applications in machine translation and language modeling tasks.\n",
        "* The Bidirectional RNN combines both forward and backward temporal processing, allowing it to consider both past and future context in its predictions, making it effective in natural language processing tasks such as sentiment analysis and named entity recognition.\n",
        "\n",
        "These advanced neural network architectures significantly expand the modeling capabilities of traditional neural networks and have become indispensable tools in various sequential data processing applications."
      ],
      "metadata": {
        "collapsed": false,
        "id": "7jkAMWnTe7Sc"
      }
    },
    {
      "cell_type": "markdown",
      "source": [
        "### Exercise\n",
        "Use the IMDB movie reviews dataset to perform sentiment analysis with a Elman, Jordan and Bidirectional RNN.\n",
        "Highlight the differences on the performance of each architecture."
      ],
      "metadata": {
        "collapsed": false,
        "id": "tmMvDdhge7Sf"
      }
    },
    {
      "cell_type": "code",
      "execution_count": 1,
      "metadata": {
        "collapsed": true,
        "id": "6Uw88aPpe7Sg"
      },
      "outputs": [],
      "source": [
        "#Librerias metodo 1\n",
        "from keras.datasets import imdb\n",
        "from keras.preprocessing import sequence\n",
        "from keras.models import Sequential\n",
        "from keras.layers import Embedding, SimpleRNN, Dense, Bidirectional"
      ]
    },
    {
      "cell_type": "code",
      "source": [
        "#Librerias metodo 2\n",
        "import tensorflow as tf\n",
        "from tensorflow.keras.datasets import imdb\n",
        "from tensorflow.keras.preprocessing import sequence\n",
        "from tensorflow.keras.models import Model\n",
        "from tensorflow.keras.layers import Input, Embedding, SimpleRNN, Dense"
      ],
      "metadata": {
        "id": "y56e2_n0fApK"
      },
      "execution_count": 2,
      "outputs": []
    },
    {
      "cell_type": "code",
      "source": [
        "#Librerias metodo 3\n",
        "from keras.datasets import imdb\n",
        "from tensorflow.keras.preprocessing import sequence  # Cambio: Importar pad_sequences desde tensorflow.keras\n",
        "from keras.models import Sequential\n",
        "from keras.layers import Embedding, SimpleRNN, Dense, Bidirectional"
      ],
      "metadata": {
        "id": "kWKq4xAKfLoh"
      },
      "execution_count": 3,
      "outputs": []
    },
    {
      "cell_type": "markdown",
      "source": [
        "1. Load the IMDB movie reviews dataset"
      ],
      "metadata": {
        "collapsed": false,
        "id": "hIl7WNNTe7Sh"
      }
    },
    {
      "cell_type": "code",
      "execution_count": 4,
      "outputs": [
        {
          "output_type": "stream",
          "name": "stdout",
          "text": [
            "Downloading data from https://storage.googleapis.com/tensorflow/tf-keras-datasets/imdb.npz\n",
            "17464789/17464789 [==============================] - 1s 0us/step\n"
          ]
        }
      ],
      "source": [
        "max_features = 5000  # Number of words to consider as features\n",
        "max_len_short = 100  # Maximum sequence length for short sequences\n",
        "max_len_long = 500   # Maximum sequence length for long sequences\n",
        "\n",
        "(x_train, y_train), (x_test, y_test) = imdb.load_data(num_words=max_features)"
      ],
      "metadata": {
        "colab": {
          "base_uri": "https://localhost:8080/"
        },
        "id": "61r6ce1Ne7Sh",
        "outputId": "7b37efce-898b-4739-b149-8ea76c299873"
      }
    },
    {
      "cell_type": "markdown",
      "source": [
        "2. Pad sequences to a fixed length for RNN input"
      ],
      "metadata": {
        "collapsed": false,
        "id": "YIIXndHhe7Sh"
      }
    },
    {
      "cell_type": "code",
      "execution_count": 5,
      "outputs": [],
      "source": [
        "x_train_short = sequence.pad_sequences(x_train, maxlen=max_len_short)\n",
        "x_test_short = sequence.pad_sequences(x_test, maxlen=max_len_short)\n",
        "\n",
        "x_train_long = sequence.pad_sequences(x_train, maxlen=max_len_long)\n",
        "x_test_long = sequence.pad_sequences(x_test, maxlen=max_len_long)"
      ],
      "metadata": {
        "id": "GnYvhCXse7Si"
      }
    },
    {
      "cell_type": "markdown",
      "source": [
        "3. Build the distinct RNN models"
      ],
      "metadata": {
        "collapsed": false,
        "id": "8IrBXfu9e7Si"
      }
    },
    {
      "cell_type": "code",
      "execution_count": 6,
      "outputs": [],
      "source": [
        "#metodo 1\n",
        "def build_elman_rnn_model():\n",
        "    model = Sequential()\n",
        "    model.add(Embedding(max_features, 32))\n",
        "    model.add(SimpleRNN(32, activation='relu'))\n",
        "    model.add(Dense(1, activation='sigmoid'))\n",
        "    return model\n",
        "\n",
        "#metodo 2\n",
        "def build_jordan_rnn_model(max_len):\n",
        "    inputs = Input(shape=(max_len,))\n",
        "    embedding = Embedding(max_features, 32)(inputs)\n",
        "    rnn_output, rnn_state = SimpleRNN(32, activation='relu', return_sequences=False, return_state=True)(embedding)\n",
        "    output = Dense(1, activation='sigmoid')(rnn_output)\n",
        "    model = Model(inputs=inputs, outputs=output)\n",
        "    return model\n",
        "\n",
        "#metodo 3\n",
        "def build_bidirectional_rnn_model():\n",
        "    model = Sequential()\n",
        "    model.add(Embedding(max_features, 32))\n",
        "    model.add(Bidirectional(SimpleRNN(32, activation='relu'), merge_mode='concat'))\n",
        "    model.add(Dense(1, activation='sigmoid'))\n",
        "    return model"
      ],
      "metadata": {
        "id": "36ofNuCWe7Sj"
      }
    },
    {
      "cell_type": "markdown",
      "source": [
        "4. Train and evaluate the RNN model"
      ],
      "metadata": {
        "collapsed": false,
        "id": "F8FwMBUEe7Sj"
      }
    },
    {
      "cell_type": "code",
      "execution_count": 7,
      "outputs": [],
      "source": [
        "def train_and_evaluate_model(model, x_train, y_train, x_test, y_test):\n",
        "    model.compile(optimizer='adam', loss='binary_crossentropy', metrics=['accuracy'])\n",
        "    history = model.fit(x_train, y_train, epochs=5, batch_size=128, validation_split=0.2)\n",
        "    loss, accuracy = model.evaluate(x_test, y_test)\n",
        "    return loss, accuracy, history\n"
      ],
      "metadata": {
        "id": "qfgBiAAQe7Sj"
      }
    },
    {
      "cell_type": "markdown",
      "source": [
        "#Modelo 1"
      ],
      "metadata": {
        "id": "8DDhPmluf8lI"
      }
    },
    {
      "cell_type": "markdown",
      "source": [
        "5. Train and evaluate the RNN model on short sequences"
      ],
      "metadata": {
        "collapsed": false,
        "id": "xg9B6opWe7Sk"
      }
    },
    {
      "cell_type": "code",
      "execution_count": 8,
      "outputs": [
        {
          "output_type": "stream",
          "name": "stdout",
          "text": [
            "\n",
            "Training RNN model on short sequences:\n",
            "Epoch 1/5\n",
            "157/157 [==============================] - 9s 46ms/step - loss: 0.6090 - accuracy: 0.6522 - val_loss: 0.4238 - val_accuracy: 0.8024\n",
            "Epoch 2/5\n",
            "157/157 [==============================] - 6s 37ms/step - loss: 0.3589 - accuracy: 0.8417 - val_loss: 0.3866 - val_accuracy: 0.8276\n",
            "Epoch 3/5\n",
            "157/157 [==============================] - 7s 45ms/step - loss: 0.2762 - accuracy: 0.8864 - val_loss: 0.3674 - val_accuracy: 0.8326\n",
            "Epoch 4/5\n",
            "157/157 [==============================] - 6s 35ms/step - loss: 0.2497 - accuracy: 0.8992 - val_loss: 0.3615 - val_accuracy: 0.8412\n",
            "Epoch 5/5\n",
            "157/157 [==============================] - 7s 43ms/step - loss: 0.2184 - accuracy: 0.9132 - val_loss: 0.4196 - val_accuracy: 0.8342\n",
            "782/782 [==============================] - 6s 8ms/step - loss: 0.4145 - accuracy: 0.8378\n"
          ]
        }
      ],
      "source": [
        "print(\"\\nTraining RNN model on short sequences:\")\n",
        "rnn_model_short = build_elman_rnn_model()\n",
        "loss_short, accuracy_short, history_short = train_and_evaluate_model(\n",
        "    rnn_model_short, x_train_short, y_train, x_test_short, y_test\n",
        ")"
      ],
      "metadata": {
        "colab": {
          "base_uri": "https://localhost:8080/"
        },
        "id": "YAxwJA3ge7Sk",
        "outputId": "1999d1a1-6cb9-4425-d2d1-6af0b0614f51"
      }
    },
    {
      "cell_type": "markdown",
      "source": [
        "6. Train and evaluate the RNN model on long sequences"
      ],
      "metadata": {
        "collapsed": false,
        "id": "GkmS7bZoe7Sk"
      }
    },
    {
      "cell_type": "code",
      "execution_count": 9,
      "outputs": [
        {
          "output_type": "stream",
          "name": "stdout",
          "text": [
            "\n",
            "Training Elman RNN model on long sequences:\n",
            "Epoch 1/5\n",
            "157/157 [==============================] - 37s 226ms/step - loss: 0.6721 - accuracy: 0.5999 - val_loss: 0.6416 - val_accuracy: 0.6428\n",
            "Epoch 2/5\n",
            "157/157 [==============================] - 32s 202ms/step - loss: 0.6536 - accuracy: 0.6949 - val_loss: 0.6335 - val_accuracy: 0.6338\n",
            "Epoch 3/5\n",
            "157/157 [==============================] - 28s 179ms/step - loss: 0.4662 - accuracy: 0.7821 - val_loss: 0.4457 - val_accuracy: 0.7932\n",
            "Epoch 4/5\n",
            "157/157 [==============================] - 31s 196ms/step - loss: 0.3496 - accuracy: 0.8505 - val_loss: 0.4056 - val_accuracy: 0.8210\n",
            "Epoch 5/5\n",
            "157/157 [==============================] - 28s 180ms/step - loss: 0.3208 - accuracy: 0.8668 - val_loss: 0.4227 - val_accuracy: 0.8202\n",
            "782/782 [==============================] - 23s 29ms/step - loss: 0.4071 - accuracy: 0.8283\n"
          ]
        }
      ],
      "source": [
        "print(\"\\nTraining Elman RNN model on long sequences:\")\n",
        "rnn_model_long = build_elman_rnn_model()\n",
        "loss_long, accuracy_long, history_long = train_and_evaluate_model(\n",
        "    rnn_model_long, x_train_long, y_train, x_test_long, y_test\n",
        ")"
      ],
      "metadata": {
        "colab": {
          "base_uri": "https://localhost:8080/"
        },
        "id": "Qse_ki7ze7Sl",
        "outputId": "3379ce94-89bf-48e4-a57b-db5c988b0a32"
      }
    },
    {
      "cell_type": "markdown",
      "source": [
        "7. Compare the results"
      ],
      "metadata": {
        "collapsed": false,
        "id": "fx4_Lo-be7Sl"
      }
    },
    {
      "cell_type": "markdown",
      "source": [
        "#Modelo 2"
      ],
      "metadata": {
        "id": "QrV146xTfyux"
      }
    },
    {
      "cell_type": "code",
      "source": [
        "print(\"\\nTraining Jordan RNN model on short sequences:\")\n",
        "jordan_model_short = build_jordan_rnn_model(max_len_short)\n",
        "loss_jordan_short, accuracy_jordan_short, history_jordan_short = train_and_evaluate_model(\n",
        "    jordan_model_short, x_train_short, y_train, x_test_short, y_test\n",
        ")"
      ],
      "metadata": {
        "colab": {
          "base_uri": "https://localhost:8080/"
        },
        "id": "Wh6xu_ZQfw5p",
        "outputId": "04aeccb6-abd1-4b2f-92f8-28c77dc63777"
      },
      "execution_count": 16,
      "outputs": [
        {
          "output_type": "stream",
          "name": "stdout",
          "text": [
            "\n",
            "Training Jordan RNN model on short sequences:\n",
            "Epoch 1/5\n",
            "157/157 [==============================] - 8s 38ms/step - loss: 0.5885 - accuracy: 0.6776 - val_loss: 0.4712 - val_accuracy: 0.7720\n",
            "Epoch 2/5\n",
            "157/157 [==============================] - 7s 46ms/step - loss: 0.3703 - accuracy: 0.8371 - val_loss: 0.3873 - val_accuracy: 0.8368\n",
            "Epoch 3/5\n",
            "157/157 [==============================] - 6s 38ms/step - loss: 0.2944 - accuracy: 0.8817 - val_loss: 0.3597 - val_accuracy: 0.8408\n",
            "Epoch 4/5\n",
            "157/157 [==============================] - 7s 47ms/step - loss: 0.2563 - accuracy: 0.8977 - val_loss: 0.3967 - val_accuracy: 0.8346\n",
            "Epoch 5/5\n",
            "157/157 [==============================] - 6s 38ms/step - loss: 0.2333 - accuracy: 0.9064 - val_loss: 0.3829 - val_accuracy: 0.8306\n",
            "782/782 [==============================] - 6s 8ms/step - loss: 0.3833 - accuracy: 0.8355\n"
          ]
        }
      ]
    },
    {
      "cell_type": "code",
      "source": [
        "print(\"\\nTraining Jordan RNN model on long sequences:\")\n",
        "jordan_model_long = build_jordan_rnn_model(max_len_long)\n",
        "loss_jordan_long,  accuracy_jordan_long, history_jordan_long = train_and_evaluate_model(\n",
        "    jordan_model_long, x_train_long, y_train, x_test_long, y_test\n",
        ")"
      ],
      "metadata": {
        "colab": {
          "base_uri": "https://localhost:8080/"
        },
        "id": "UYxe8JbwgG1I",
        "outputId": "7c22d631-2fb2-4abd-8f49-b34af05dba6e"
      },
      "execution_count": 19,
      "outputs": [
        {
          "output_type": "stream",
          "name": "stdout",
          "text": [
            "\n",
            "Training Jordan RNN model on long sequences:\n",
            "Epoch 1/5\n",
            "157/157 [==============================] - 31s 184ms/step - loss: 0.6368 - accuracy: 0.6399 - val_loss: 0.6383 - val_accuracy: 0.6942\n",
            "Epoch 2/5\n",
            "157/157 [==============================] - 29s 182ms/step - loss: 0.4434 - accuracy: 0.7954 - val_loss: 0.3694 - val_accuracy: 0.8358\n",
            "Epoch 3/5\n",
            "157/157 [==============================] - 30s 191ms/step - loss: 0.2986 - accuracy: 0.8749 - val_loss: 0.3426 - val_accuracy: 0.8552\n",
            "Epoch 4/5\n",
            "157/157 [==============================] - 30s 191ms/step - loss: 0.3474 - accuracy: 0.8603 - val_loss: 0.3976 - val_accuracy: 0.8386\n",
            "Epoch 5/5\n",
            "157/157 [==============================] - 30s 190ms/step - loss: 0.2457 - accuracy: 0.8995 - val_loss: 0.3403 - val_accuracy: 0.8556\n",
            "782/782 [==============================] - 23s 29ms/step - loss: 0.3393 - accuracy: 0.8563\n"
          ]
        }
      ]
    },
    {
      "cell_type": "markdown",
      "source": [
        "#Modelo 3"
      ],
      "metadata": {
        "id": "GGdUn1E8gIDg"
      }
    },
    {
      "cell_type": "code",
      "source": [
        "print(\"\\nTraining Bidirectional RNN model on short sequences:\")  # Cambio: Añadir impresión para el nuevo modelo\n",
        "bidirectional_model_short = build_bidirectional_rnn_model()\n",
        "loss_bidirectional_short, accuracy_bidirectional_short, history_bidirectional_short = train_and_evaluate_model(\n",
        "    bidirectional_model_short, x_train_short, y_train, x_test_short, y_test\n",
        ")"
      ],
      "metadata": {
        "colab": {
          "base_uri": "https://localhost:8080/"
        },
        "id": "V9xiIs7ag8g3",
        "outputId": "30c54440-0bc3-46a8-8c8d-8959b9154f46"
      },
      "execution_count": 12,
      "outputs": [
        {
          "output_type": "stream",
          "name": "stdout",
          "text": [
            "\n",
            "Training Bidirectional RNN model on short sequences:\n",
            "Epoch 1/5\n",
            "157/157 [==============================] - 17s 95ms/step - loss: 0.6346 - accuracy: 0.6290 - val_loss: 0.4640 - val_accuracy: 0.7884\n",
            "Epoch 2/5\n",
            "157/157 [==============================] - 11s 69ms/step - loss: 0.3680 - accuracy: 0.8419 - val_loss: 0.3618 - val_accuracy: 0.8368\n",
            "Epoch 3/5\n",
            "157/157 [==============================] - 10s 61ms/step - loss: 0.2796 - accuracy: 0.8849 - val_loss: 0.3731 - val_accuracy: 0.8380\n",
            "Epoch 4/5\n",
            "157/157 [==============================] - 11s 69ms/step - loss: 0.2356 - accuracy: 0.9062 - val_loss: 0.3551 - val_accuracy: 0.8432\n",
            "Epoch 5/5\n",
            "157/157 [==============================] - 11s 70ms/step - loss: 0.2066 - accuracy: 0.9198 - val_loss: 0.3740 - val_accuracy: 0.8370\n",
            "782/782 [==============================] - 9s 12ms/step - loss: 0.3665 - accuracy: 0.8457\n"
          ]
        }
      ]
    },
    {
      "cell_type": "code",
      "source": [
        "print(\"\\nTraining Bidirectional RNN model on long sequences:\")  # Cambio: Añadir impresión para el nuevo modelo\n",
        "bidirectional_model_long = build_bidirectional_rnn_model()\n",
        "loss_bidirectional_long, accuracy_bidirectional_long, history_bidirectional_long = train_and_evaluate_model(\n",
        "    bidirectional_model_long, x_train_long, y_train, x_test_long, y_test\n",
        ")"
      ],
      "metadata": {
        "colab": {
          "base_uri": "https://localhost:8080/"
        },
        "id": "SY7NH7XqhCW_",
        "outputId": "71fbeafc-828e-420e-fe8c-1c32b5749e6c"
      },
      "execution_count": 13,
      "outputs": [
        {
          "output_type": "stream",
          "name": "stdout",
          "text": [
            "\n",
            "Training Bidirectional RNN model on long sequences:\n",
            "Epoch 1/5\n",
            "157/157 [==============================] - 56s 342ms/step - loss: 0.6667 - accuracy: 0.6000 - val_loss: 0.5805 - val_accuracy: 0.6914\n",
            "Epoch 2/5\n",
            "157/157 [==============================] - 54s 342ms/step - loss: 0.4650 - accuracy: 0.7911 - val_loss: 0.5113 - val_accuracy: 0.7542\n",
            "Epoch 3/5\n",
            "157/157 [==============================] - 55s 348ms/step - loss: 0.6377 - accuracy: 0.7886 - val_loss: 0.5042 - val_accuracy: 0.7502\n",
            "Epoch 4/5\n",
            "157/157 [==============================] - 54s 346ms/step - loss: 0.3854 - accuracy: 0.8332 - val_loss: 0.3728 - val_accuracy: 0.8434\n",
            "Epoch 5/5\n",
            "157/157 [==============================] - 53s 337ms/step - loss: 0.3368 - accuracy: 0.8562 - val_loss: 0.5380 - val_accuracy: 0.7218\n",
            "782/782 [==============================] - 36s 46ms/step - loss: 0.5368 - accuracy: 0.7252\n"
          ]
        }
      ]
    },
    {
      "cell_type": "markdown",
      "source": [
        "#Resultados obtenidos"
      ],
      "metadata": {
        "id": "9kodmJefhC7B"
      }
    },
    {
      "cell_type": "code",
      "execution_count": 20,
      "outputs": [
        {
          "output_type": "stream",
          "name": "stdout",
          "text": [
            "Resultados Modelo 1 \n",
            "\n",
            "\n",
            "Results on Short Sequences:\n",
            "Loss: 0.4145, Accuracy: 0.8378\n",
            "\n",
            "Results on Long Sequences:\n",
            "Loss: 0.4071, Accuracy: 0.8283\n",
            "\n",
            "=====================================================\n",
            "Resultados Modelo 2 \n",
            "\n",
            "\n",
            "Results on Short Sequences:\n",
            "Loss: 0.3833, Accuracy: 0.6552\n",
            "\n",
            "Results on Long Sequences:\n",
            "Loss: 0.3393, Accuracy: 0.8563\n",
            "\n",
            "=====================================================\n",
            "Resultados Modelo 3 \n",
            "\n",
            "\n",
            "Results on Bidirectional Short Sequences:\n",
            "Loss: 0.3665, Accuracy: 0.8457\n",
            "\n",
            "Results on Bidirectional Long Sequences:\n",
            "Loss: 0.5368, Accuracy: 0.7252\n"
          ]
        }
      ],
      "source": [
        "#Modelo 1\n",
        "print(\"Resultados Modelo 1 \\n\")\n",
        "print(\"\\nResults on Short Sequences:\")\n",
        "print(f\"Loss: {loss_short:.4f}, Accuracy: {accuracy_short:.4f}\")\n",
        "\n",
        "print(\"\\nResults on Long Sequences:\")\n",
        "print(f\"Loss: {loss_long:.4f}, Accuracy: {accuracy_long:.4f}\")\n",
        "\n",
        "print(\"\\n=====================================================\")\n",
        "print(\"Resultados Modelo 2 \\n\")\n",
        "print(\"\\nResults on Short Sequences:\")\n",
        "print(f\"Loss: {loss_jordan_short:.4f}, Accuracy: {accuracy_jordan_short:.4f}\")\n",
        "\n",
        "print(\"\\nResults on Long Sequences:\")\n",
        "print(f\"Loss: {loss_jordan_long:.4f}, Accuracy: {accuracy_jordan_long:.4f}\")\n",
        "\n",
        "print(\"\\n=====================================================\")\n",
        "print(\"Resultados Modelo 3 \\n\")\n",
        "print(\"\\nResults on Bidirectional Short Sequences:\")\n",
        "print(f\"Loss: {loss_bidirectional_short:.4f}, Accuracy: {accuracy_bidirectional_short:.4f}\")\n",
        "\n",
        "print(\"\\nResults on Bidirectional Long Sequences:\")\n",
        "print(f\"Loss: {loss_bidirectional_long:.4f}, Accuracy: {accuracy_bidirectional_long:.4f}\")"
      ],
      "metadata": {
        "colab": {
          "base_uri": "https://localhost:8080/"
        },
        "id": "8Mkh4cd6e7Sl",
        "outputId": "ff9f9017-aa16-477b-afff-b95d2455bc53"
      }
    }
  ],
  "metadata": {
    "kernelspec": {
      "display_name": "Python 3",
      "language": "python",
      "name": "python3"
    },
    "language_info": {
      "codemirror_mode": {
        "name": "ipython",
        "version": 2
      },
      "file_extension": ".py",
      "mimetype": "text/x-python",
      "name": "python",
      "nbconvert_exporter": "python",
      "pygments_lexer": "ipython2",
      "version": "2.7.6"
    },
    "colab": {
      "provenance": []
    }
  },
  "nbformat": 4,
  "nbformat_minor": 0
}