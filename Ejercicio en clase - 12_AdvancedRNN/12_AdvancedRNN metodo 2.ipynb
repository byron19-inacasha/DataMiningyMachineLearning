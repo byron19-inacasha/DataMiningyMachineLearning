{
  "cells": [
    {
      "cell_type": "markdown",
      "source": [
        "# 12 Advanced Recurrent Neural Networks\n",
        "\n",
        "Advanced Neural Network architectures represent significant advancements in the field of deep learning, which are most used in the domain of sequence modeling and processing. These architectures build upon the traditional feedforward neural networks and introduce recurrent connections, allowing them to exhibit temporal dynamics and memory capabilities.\n",
        "\n",
        "* The Elman RNN employs a simple recurrent loop in its hidden layer, enabling it to capture short-term temporal dependencies, making it suitable for applications such as speech recognition and time series analysis.\n",
        "* The Jordan RNN possesses feedback connections from the output layer to the hidden layer, rendering it capable of modeling longer-term dependencies, which finds applications in machine translation and language modeling tasks.\n",
        "* The Bidirectional RNN combines both forward and backward temporal processing, allowing it to consider both past and future context in its predictions, making it effective in natural language processing tasks such as sentiment analysis and named entity recognition.\n",
        "\n",
        "These advanced neural network architectures significantly expand the modeling capabilities of traditional neural networks and have become indispensable tools in various sequential data processing applications."
      ],
      "metadata": {
        "collapsed": false,
        "id": "j0XnZALlW6Wr"
      }
    },
    {
      "cell_type": "markdown",
      "source": [
        "### Exercise\n",
        "Use the IMDB movie reviews dataset to perform sentiment analysis with a Elman, Jordan and Bidirectional RNN.\n",
        "Highlight the differences on the performance of each architecture."
      ],
      "metadata": {
        "collapsed": false,
        "id": "s9xuf9njW6Ws"
      }
    },
    {
      "cell_type": "code",
      "execution_count": 45,
      "metadata": {
        "collapsed": true,
        "id": "now4l4wYW6Ws"
      },
      "outputs": [],
      "source": [
        "import tensorflow as tf\n",
        "from tensorflow.keras.datasets import imdb\n",
        "from tensorflow.keras.preprocessing import sequence\n",
        "from tensorflow.keras.models import Model\n",
        "from tensorflow.keras.layers import Input, Embedding, SimpleRNN, Dense\n"
      ]
    },
    {
      "cell_type": "markdown",
      "source": [
        "1. Load the IMDB movie reviews dataset"
      ],
      "metadata": {
        "collapsed": false,
        "id": "_gUGxfqfW6Wt"
      }
    },
    {
      "cell_type": "code",
      "execution_count": 46,
      "outputs": [],
      "source": [
        "max_features = 5000  # Number of words to consider as features\n",
        "max_len_short = 100  # Maximum sequence length for short sequences\n",
        "max_len_long = 500   # Maximum sequence length for long sequences\n",
        "(x_train, y_train), (x_test, y_test) = imdb.load_data(num_words=max_features)\n"
      ],
      "metadata": {
        "id": "OHOEDOR8W6Wu"
      }
    },
    {
      "cell_type": "markdown",
      "source": [
        "2. Pad sequences to a fixed length for RNN input"
      ],
      "metadata": {
        "collapsed": false,
        "id": "7YdZ78a2W6Wu"
      }
    },
    {
      "cell_type": "code",
      "source": [
        "x_train_short = sequence.pad_sequences(x_train, maxlen=max_len_short)\n",
        "x_test_short = sequence.pad_sequences(x_test, maxlen=max_len_short)\n",
        "\n",
        "x_train_long = sequence.pad_sequences(x_train, maxlen=max_len_long)\n",
        "x_test_long = sequence.pad_sequences(x_test, maxlen=max_len_long)"
      ],
      "metadata": {
        "id": "sNpYx_q5Yqbp"
      },
      "execution_count": 48,
      "outputs": []
    },
    {
      "cell_type": "markdown",
      "source": [
        "3. Build the distinct RNN models"
      ],
      "metadata": {
        "collapsed": false,
        "id": "9RnVTIYzW6Wv"
      }
    },
    {
      "cell_type": "code",
      "execution_count": 49,
      "outputs": [],
      "source": [
        "def build_jordan_rnn_model(max_len):\n",
        "    inputs = Input(shape=(max_len,))\n",
        "    embedding = Embedding(max_features, 32)(inputs)\n",
        "    rnn_output, rnn_state = SimpleRNN(32, activation='relu', return_sequences=False, return_state=True)(embedding)\n",
        "    output = Dense(1, activation='sigmoid')(rnn_output)\n",
        "    model = Model(inputs=inputs, outputs=output)\n",
        "    return model\n"
      ],
      "metadata": {
        "id": "TR3hslErW6Wv"
      }
    },
    {
      "cell_type": "markdown",
      "source": [
        "4. Train and evaluate the RNN model"
      ],
      "metadata": {
        "collapsed": false,
        "id": "TZdVatV5W6Ww"
      }
    },
    {
      "cell_type": "code",
      "execution_count": 50,
      "outputs": [],
      "source": [
        "def train_and_evaluate_model(model, x_train, y_train, x_test, y_test):\n",
        "    model.compile(optimizer='adam', loss='binary_crossentropy', metrics=['accuracy'])\n",
        "    history = model.fit(x_train, y_train, epochs=5, batch_size=128, validation_split=0.2)\n",
        "    loss, accuracy = model.evaluate(x_test, y_test)\n",
        "    return loss, accuracy, history\n"
      ],
      "metadata": {
        "id": "hjAXUps5W6Ww"
      }
    },
    {
      "cell_type": "markdown",
      "source": [
        "5. Train and evaluate the RNN model on short sequences"
      ],
      "metadata": {
        "collapsed": false,
        "id": "cZlyU4XoW6Ww"
      }
    },
    {
      "cell_type": "code",
      "execution_count": 51,
      "outputs": [
        {
          "output_type": "stream",
          "name": "stdout",
          "text": [
            "\n",
            "Training Jordan RNN model on short sequences:\n",
            "Epoch 1/5\n",
            "157/157 [==============================] - 8s 40ms/step - loss: 0.6176 - accuracy: 0.6500 - val_loss: 0.4492 - val_accuracy: 0.8066\n",
            "Epoch 2/5\n",
            "157/157 [==============================] - 7s 45ms/step - loss: 0.3756 - accuracy: 0.8356 - val_loss: 0.4286 - val_accuracy: 0.8238\n",
            "Epoch 3/5\n",
            "157/157 [==============================] - 6s 38ms/step - loss: 0.2981 - accuracy: 0.8781 - val_loss: 0.3687 - val_accuracy: 0.8326\n",
            "Epoch 4/5\n",
            "157/157 [==============================] - 8s 49ms/step - loss: 0.2556 - accuracy: 0.8989 - val_loss: 0.3621 - val_accuracy: 0.8378\n",
            "Epoch 5/5\n",
            "157/157 [==============================] - 6s 38ms/step - loss: 0.2216 - accuracy: 0.9160 - val_loss: 0.3863 - val_accuracy: 0.8358\n",
            "782/782 [==============================] - 7s 9ms/step - loss: 0.3847 - accuracy: 0.8397\n"
          ]
        }
      ],
      "source": [
        "print(\"\\nTraining Jordan RNN model on short sequences:\")\n",
        "jordan_model_short = build_jordan_rnn_model(max_len_short)\n",
        "loss_short, accuracy_short, history_short = train_and_evaluate_model(\n",
        "    jordan_model_short, x_train_short, y_train, x_test_short, y_test\n",
        ")"
      ],
      "metadata": {
        "colab": {
          "base_uri": "https://localhost:8080/"
        },
        "id": "orE8nszBW6Ww",
        "outputId": "395f4602-8fe8-4cfc-9cd8-7f80cb3cfad4"
      }
    },
    {
      "cell_type": "markdown",
      "source": [
        "6. Train and evaluate the RNN model on long sequences"
      ],
      "metadata": {
        "collapsed": false,
        "id": "jCpUKcSBW6Wx"
      }
    },
    {
      "cell_type": "code",
      "execution_count": 52,
      "outputs": [
        {
          "output_type": "stream",
          "name": "stdout",
          "text": [
            "\n",
            "Training Jordan RNN model on long sequences:\n",
            "Epoch 1/5\n",
            "157/157 [==============================] - 32s 195ms/step - loss: 0.6568 - accuracy: 0.6234 - val_loss: 0.5049 - val_accuracy: 0.7382\n",
            "Epoch 2/5\n",
            "157/157 [==============================] - 31s 195ms/step - loss: 0.4853 - accuracy: 0.7725 - val_loss: 0.6439 - val_accuracy: 0.7512\n",
            "Epoch 3/5\n",
            "157/157 [==============================] - 29s 186ms/step - loss: 0.3581 - accuracy: 0.8431 - val_loss: 0.4007 - val_accuracy: 0.8286\n",
            "Epoch 4/5\n",
            "157/157 [==============================] - 29s 184ms/step - loss: 0.3222 - accuracy: 0.8626 - val_loss: 0.4257 - val_accuracy: 0.8010\n",
            "Epoch 5/5\n",
            "157/157 [==============================] - 32s 202ms/step - loss: 0.2753 - accuracy: 0.8881 - val_loss: 0.3647 - val_accuracy: 0.8494\n",
            "782/782 [==============================] - 22s 28ms/step - loss: 0.3601 - accuracy: 0.8492\n"
          ]
        }
      ],
      "source": [
        "print(\"\\nTraining Jordan RNN model on long sequences:\")\n",
        "jordan_model_long = build_jordan_rnn_model(max_len_long)\n",
        "loss_long, accuracy_long, history_long = train_and_evaluate_model(\n",
        "    jordan_model_long, x_train_long, y_train, x_test_long, y_test\n",
        ")"
      ],
      "metadata": {
        "colab": {
          "base_uri": "https://localhost:8080/"
        },
        "id": "PYKp4x8FW6Wx",
        "outputId": "cd172a46-1a18-447d-c0ae-acaeee4be319"
      }
    },
    {
      "cell_type": "markdown",
      "source": [
        "7. Compare the results"
      ],
      "metadata": {
        "collapsed": false,
        "id": "sKGUGJitW6Wx"
      }
    },
    {
      "cell_type": "code",
      "execution_count": 53,
      "outputs": [
        {
          "output_type": "stream",
          "name": "stdout",
          "text": [
            "\n",
            "Results on Short Sequences:\n",
            "Loss: 0.3847, Accuracy: 0.8397\n",
            "\n",
            "Results on Long Sequences:\n",
            "Loss: 0.3601, Accuracy: 0.8492\n"
          ]
        }
      ],
      "source": [
        "print(\"\\nResults on Short Sequences:\")\n",
        "print(f\"Loss: {loss_short:.4f}, Accuracy: {accuracy_short:.4f}\")\n",
        "\n",
        "print(\"\\nResults on Long Sequences:\")\n",
        "print(f\"Loss: {loss_long:.4f}, Accuracy: {accuracy_long:.4f}\")"
      ],
      "metadata": {
        "colab": {
          "base_uri": "https://localhost:8080/"
        },
        "id": "eFZo_WcFW6Wx",
        "outputId": "0c0e7dd8-8751-407c-d1a3-1dc74530fb59"
      }
    }
  ],
  "metadata": {
    "kernelspec": {
      "display_name": "Python 3",
      "language": "python",
      "name": "python3"
    },
    "language_info": {
      "codemirror_mode": {
        "name": "ipython",
        "version": 2
      },
      "file_extension": ".py",
      "mimetype": "text/x-python",
      "name": "python",
      "nbconvert_exporter": "python",
      "pygments_lexer": "ipython2",
      "version": "2.7.6"
    },
    "colab": {
      "provenance": []
    }
  },
  "nbformat": 4,
  "nbformat_minor": 0
}