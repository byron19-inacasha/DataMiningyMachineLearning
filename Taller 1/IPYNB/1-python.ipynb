{
 "cells": [
  {
   "cell_type": "markdown",
   "id": "b2a92a29",
   "metadata": {
    "papermill": {
     "duration": 0.014727,
     "end_time": "2023-06-03T21:30:53.101577",
     "exception": false,
     "start_time": "2023-06-03T21:30:53.086850",
     "status": "completed"
    },
    "tags": []
   },
   "source": [
    "# Introduccion"
   ]
  },
  {
   "cell_type": "code",
   "execution_count": 1,
   "id": "5fdff075",
   "metadata": {
    "_cell_guid": "b1076dfc-b9ad-4769-8c92-a6c4dae69d19",
    "_uuid": "8f2839f25d086af736a60e9eeb907d3b93b6e0e5",
    "execution": {
     "iopub.execute_input": "2023-06-03T21:30:53.130249Z",
     "iopub.status.busy": "2023-06-03T21:30:53.129711Z",
     "iopub.status.idle": "2023-06-03T21:30:53.165303Z",
     "shell.execute_reply": "2023-06-03T21:30:53.164146Z"
    },
    "papermill": {
     "duration": 0.052947,
     "end_time": "2023-06-03T21:30:53.167773",
     "exception": false,
     "start_time": "2023-06-03T21:30:53.114826",
     "status": "completed"
    },
    "tags": []
   },
   "outputs": [
    {
     "name": "stdout",
     "output_type": "stream",
     "text": [
      "/kaggle/input/aerodata/dataset-66056.csv\n",
      "/kaggle/input/db2023/ServiceArea.csv\n",
      "/kaggle/input/db2023/Network.csv\n",
      "/kaggle/input/electro/echocardiogram1.data\n",
      "/kaggle/input/electro/echocardiogram2.names\n"
     ]
    }
   ],
   "source": [
    "# This Python 3 environment comes with many helpful analytics libraries installed\n",
    "# It is defined by the kaggle/python Docker image: https://github.com/kaggle/docker-python\n",
    "# For example, here's several helpful packages to load\n",
    "\n",
    "import numpy as np # linear algebra\n",
    "import pandas as pd # data processing, CSV file I/O (e.g. pd.read_csv)\n",
    "\n",
    "# Input data files are available in the read-only \"../input/\" directory\n",
    "# For example, running this (by clicking run or pressing Shift+Enter) will list all files under the input directory\n",
    "\n",
    "import os\n",
    "for dirname, _, filenames in os.walk('/kaggle/input'):\n",
    "    for filename in filenames:\n",
    "        print(os.path.join(dirname, filename))\n",
    "\n",
    "# You can write up to 20GB to the current directory (/kaggle/working/) that gets preserved as output when you create a version using \"Save & Run All\" \n",
    "# You can also write temporary files to /kaggle/temp/, but they won't be saved outside of the current session"
   ]
  },
  {
   "cell_type": "markdown",
   "id": "bc356b89",
   "metadata": {
    "papermill": {
     "duration": 0.012877,
     "end_time": "2023-06-03T21:30:53.195769",
     "exception": false,
     "start_time": "2023-06-03T21:30:53.182892",
     "status": "completed"
    },
    "tags": []
   },
   "source": [
    "#  Create an array of 10 random integers between 1 and 100, and then calculate the mean and standard deviation of the array"
   ]
  },
  {
   "cell_type": "code",
   "execution_count": 2,
   "id": "50f6d2d3",
   "metadata": {
    "execution": {
     "iopub.execute_input": "2023-06-03T21:30:53.223876Z",
     "iopub.status.busy": "2023-06-03T21:30:53.223346Z",
     "iopub.status.idle": "2023-06-03T21:30:53.234488Z",
     "shell.execute_reply": "2023-06-03T21:30:53.233451Z"
    },
    "papermill": {
     "duration": 0.028449,
     "end_time": "2023-06-03T21:30:53.237204",
     "exception": false,
     "start_time": "2023-06-03T21:30:53.208755",
     "status": "completed"
    },
    "tags": []
   },
   "outputs": [
    {
     "name": "stdout",
     "output_type": "stream",
     "text": [
      "[97 89 44 92 87 17 84  8 37  6]\n",
      "Medio: 56.1\n",
      "Desviacion Estandar: 35.55404337062101\n"
     ]
    }
   ],
   "source": [
    "a = np.random.randint(1, 101, size=10)\n",
    "aV = np.mean(a)\n",
    "aS = np.std(a)\n",
    "\n",
    "print(a)\n",
    "print(\"Medio:\", aV)\n",
    "print(\"Desviacion Estandar:\", aS)"
   ]
  },
  {
   "cell_type": "markdown",
   "id": "19527b47",
   "metadata": {
    "papermill": {
     "duration": 0.012759,
     "end_time": "2023-06-03T21:30:53.263544",
     "exception": false,
     "start_time": "2023-06-03T21:30:53.250785",
     "status": "completed"
    },
    "tags": []
   },
   "source": [
    "# Create a 2-dimensional array of 3 rows and 4 columns with random integer values. Then, calculate the sum of each row and column."
   ]
  },
  {
   "cell_type": "code",
   "execution_count": 3,
   "id": "fc9e4eab",
   "metadata": {
    "execution": {
     "iopub.execute_input": "2023-06-03T21:30:53.292669Z",
     "iopub.status.busy": "2023-06-03T21:30:53.291873Z",
     "iopub.status.idle": "2023-06-03T21:30:53.300355Z",
     "shell.execute_reply": "2023-06-03T21:30:53.299304Z"
    },
    "papermill": {
     "duration": 0.026149,
     "end_time": "2023-06-03T21:30:53.302640",
     "exception": false,
     "start_time": "2023-06-03T21:30:53.276491",
     "status": "completed"
    },
    "tags": []
   },
   "outputs": [
    {
     "name": "stdout",
     "output_type": "stream",
     "text": [
      "[[58 74 55 49]\n",
      " [82 63 81 85]\n",
      " [68 19 73 12]]\n",
      "Sum of each row: [208 156 209 146]\n",
      "Sum of each column: [236 311 172]\n"
     ]
    }
   ],
   "source": [
    "b = np.random.randint(1,101,size=(3,4))\n",
    "bSumF = np.sum(b, axis=0)\n",
    "bSumC = np.sum(b, axis=1)\n",
    "\n",
    "print(b)\n",
    "print(\"Sum of each row:\", bSumF)\n",
    "print(\"Sum of each column:\", bSumC)"
   ]
  },
  {
   "cell_type": "markdown",
   "id": "35aacf59",
   "metadata": {
    "papermill": {
     "duration": 0.013117,
     "end_time": "2023-06-03T21:30:53.328967",
     "exception": false,
     "start_time": "2023-06-03T21:30:53.315850",
     "status": "completed"
    },
    "tags": []
   },
   "source": [
    "#  Create a DataFrame with 3 columns: \"Name\", \"Age\", and \"City\". Add at least 5 rows of data to the DataFrame. Then, filter the DataFrame to only include rows where the person's age is greater than or equal to 30.\n"
   ]
  },
  {
   "cell_type": "code",
   "execution_count": 4,
   "id": "b91a82ce",
   "metadata": {
    "execution": {
     "iopub.execute_input": "2023-06-03T21:30:53.358083Z",
     "iopub.status.busy": "2023-06-03T21:30:53.357206Z",
     "iopub.status.idle": "2023-06-03T21:30:53.391175Z",
     "shell.execute_reply": "2023-06-03T21:30:53.389756Z"
    },
    "papermill": {
     "duration": 0.051703,
     "end_time": "2023-06-03T21:30:53.393640",
     "exception": false,
     "start_time": "2023-06-03T21:30:53.341937",
     "status": "completed"
    },
    "tags": []
   },
   "outputs": [
    {
     "name": "stdout",
     "output_type": "stream",
     "text": [
      "    Name  Age       City\n",
      "2   Joel   42  Guayaquil\n",
      "4  David   31      Tokyo\n"
     ]
    }
   ],
   "source": [
    "data = {\n",
    "    'Name': ['Brian', 'Alice', 'Joel', 'Jean', 'David'],\n",
    "    'Age': [29, 22, 42, 21, 31],\n",
    "    'City': ['Quito', 'Santo Domingo', 'Guayaquil', 'Cuenca', 'Tokyo']\n",
    "}\n",
    "df = pd.DataFrame(data)\n",
    "filtered_df = df[df['Age'] >= 30]\n",
    "print(filtered_df)"
   ]
  },
  {
   "cell_type": "markdown",
   "id": "0f8db53c",
   "metadata": {
    "papermill": {
     "duration": 0.013171,
     "end_time": "2023-06-03T21:30:53.420171",
     "exception": false,
     "start_time": "2023-06-03T21:30:53.407000",
     "status": "completed"
    },
    "tags": []
   },
   "source": [
    "# Load a CSV file into a DataFrame and then calculate the mean, median, and mode of one of the columns in the DataFrame."
   ]
  },
  {
   "cell_type": "code",
   "execution_count": 5,
   "id": "4a6ac427",
   "metadata": {
    "execution": {
     "iopub.execute_input": "2023-06-03T21:30:53.449570Z",
     "iopub.status.busy": "2023-06-03T21:30:53.448753Z",
     "iopub.status.idle": "2023-06-03T21:30:53.523496Z",
     "shell.execute_reply": "2023-06-03T21:30:53.522232Z"
    },
    "papermill": {
     "duration": 0.093841,
     "end_time": "2023-06-03T21:30:53.527105",
     "exception": false,
     "start_time": "2023-06-03T21:30:53.433264",
     "status": "completed"
    },
    "tags": []
   },
   "outputs": [
    {
     "name": "stdout",
     "output_type": "stream",
     "text": [
      "      BusinessYear StateCode  IssuerId SourceName  VersionNum  \\\n",
      "0             2014        AK     21989       HIOS           6   \n",
      "1             2014        AK     38344       HIOS           6   \n",
      "2             2014        AK     38536       HIOS           2   \n",
      "3             2014        AK     42507       HIOS           3   \n",
      "4             2014        AK     73836       HIOS           6   \n",
      "...            ...       ...       ...        ...         ...   \n",
      "3817          2016        WV     75441      SERFF           2   \n",
      "3818          2016        WV     76526      SERFF           4   \n",
      "3819          2016        WV     76526      SERFF           4   \n",
      "3820          2016        WV     94562      SERFF           2   \n",
      "3821          2016        WV     96480      SERFF           2   \n",
      "\n",
      "               ImportDate  IssuerId2 StateCode2             NetworkName  \\\n",
      "0     2014-03-19 07:06:49      21989         AK             ODS Premier   \n",
      "1     2013-08-28 08:15:53      38344         AK            HeritagePlus   \n",
      "2     2013-08-01 12:48:00      38536         AK  Lincoln Dental Connect   \n",
      "3     2013-09-02 11:39:25      42507         AK   DentalGuard Preferred   \n",
      "4     2014-04-18 11:49:29      73836         AK   Moda Plus AK Regional   \n",
      "...                   ...        ...        ...                     ...   \n",
      "3817  2015-08-20 12:28:36      75441         WV           DenteMax, LLC   \n",
      "3818  2015-08-20 12:28:36      76526         WV        Delta Dental PPO   \n",
      "3819  2015-08-20 12:28:36      76526         WV        Delta Dental PPO   \n",
      "3820  2015-08-20 12:28:36      94562         WV                PDP PLUS   \n",
      "3821  2015-08-20 12:28:36      96480         WV   DentalGuard Preferred   \n",
      "\n",
      "     NetworkId                                         NetworkURL  RowNumber  \\\n",
      "0       AKN001  https://www.modahealth.com/ProviderSearch/face...         13   \n",
      "1       AKN001                https://www.premera.com/wa/visitor/         13   \n",
      "2       AKN001  http://lfg.go2dental.com/member/dental_search/...         13   \n",
      "3       AKN001  https://www.guardiananytime.com/fpapp/FPWeb/de...         13   \n",
      "4       AKN001  https://www.modahealth.com/ProviderSearch/face...         13   \n",
      "...        ...                                                ...        ...   \n",
      "3817    WVN001                                   www.dentemax.com         13   \n",
      "3818    WVN001      https://www.deltadentalins.com/find-a-dentist         13   \n",
      "3819    WVN001      https://www.deltadentalins.com/find-a-dentist         13   \n",
      "3820    WVN001  https://metlocator.metlife.com/metlocator/exec...         13   \n",
      "3821    WVN001  https://www.guardiananytime.com/fpapp/FPWeb/de...         13   \n",
      "\n",
      "          MarketCoverage DentalOnlyPlan  \n",
      "0                    NaN            NaN  \n",
      "1                    NaN            NaN  \n",
      "2                    NaN            NaN  \n",
      "3                    NaN            NaN  \n",
      "4                    NaN            NaN  \n",
      "...                  ...            ...  \n",
      "3817  SHOP (Small Group)            Yes  \n",
      "3818  SHOP (Small Group)            Yes  \n",
      "3819          Individual            Yes  \n",
      "3820  SHOP (Small Group)            Yes  \n",
      "3821  SHOP (Small Group)            Yes  \n",
      "\n",
      "[3822 rows x 14 columns]\n",
      "Media: 54917.78571428572\n",
      "Mediana: 53901.0\n",
      "Moda: 79763\n"
     ]
    }
   ],
   "source": [
    "df = pd.read_csv('/kaggle/input/db2023/Network.csv')\n",
    "print(df)\n",
    "media = df['IssuerId'].mean()\n",
    "mediana = df['IssuerId'].median()\n",
    "moda = df['IssuerId'].mode().values[0]\n",
    "\n",
    "print(\"Media:\", media)\n",
    "print(\"Mediana:\", mediana)\n",
    "print(\"Moda:\", moda)"
   ]
  },
  {
   "cell_type": "markdown",
   "id": "e4d3cf16",
   "metadata": {
    "papermill": {
     "duration": 0.013513,
     "end_time": "2023-06-03T21:30:53.554103",
     "exception": false,
     "start_time": "2023-06-03T21:30:53.540590",
     "status": "completed"
    },
    "tags": []
   },
   "source": [
    "# Create a scatter plot of random x and y values between 1 and 100."
   ]
  },
  {
   "cell_type": "code",
   "execution_count": 6,
   "id": "7820bcfa",
   "metadata": {
    "execution": {
     "iopub.execute_input": "2023-06-03T21:30:53.583569Z",
     "iopub.status.busy": "2023-06-03T21:30:53.582629Z",
     "iopub.status.idle": "2023-06-03T21:30:53.833860Z",
     "shell.execute_reply": "2023-06-03T21:30:53.832753Z"
    },
    "papermill": {
     "duration": 0.268983,
     "end_time": "2023-06-03T21:30:53.836457",
     "exception": false,
     "start_time": "2023-06-03T21:30:53.567474",
     "status": "completed"
    },
    "tags": []
   },
   "outputs": [
    {
     "data": {
      "image/png": "[encoded data removed]",
      "text/plain": [
       "<Figure size 640x480 with 1 Axes>"
      ]
     },
     "metadata": {},
     "output_type": "display_data"
    }
   ],
   "source": [
    "import matplotlib.pyplot as plt\n",
    "x = np.random.randint(1, 101, size=100)\n",
    "y = np.random.randint(1, 101, size=100)\n",
    "plt.scatter(x, y)\n",
    "plt.title(\"Scatter Plot\")\n",
    "plt.xlabel(\"X\")\n",
    "plt.ylabel(\"Y\")\n",
    "plt.show()"
   ]
  },
  {
   "cell_type": "markdown",
   "id": "fdf63aff",
   "metadata": {
    "papermill": {
     "duration": 0.013311,
     "end_time": "2023-06-03T21:30:53.863307",
     "exception": false,
     "start_time": "2023-06-03T21:30:53.849996",
     "status": "completed"
    },
    "tags": []
   },
   "source": [
    "# Load a CSV file into a DataFrame and then create a line chart of one of the columns in the DataFrame."
   ]
  },
  {
   "cell_type": "code",
   "execution_count": 7,
   "id": "54791c0d",
   "metadata": {
    "execution": {
     "iopub.execute_input": "2023-06-03T21:30:53.892366Z",
     "iopub.status.busy": "2023-06-03T21:30:53.891959Z",
     "iopub.status.idle": "2023-06-03T21:30:54.160317Z",
     "shell.execute_reply": "2023-06-03T21:30:54.159432Z"
    },
    "papermill": {
     "duration": 0.285686,
     "end_time": "2023-06-03T21:30:54.162479",
     "exception": false,
     "start_time": "2023-06-03T21:30:53.876793",
     "status": "completed"
    },
    "tags": []
   },
   "outputs": [
    {
     "name": "stdout",
     "output_type": "stream",
     "text": [
      "      BusinessYear StateCode  IssuerId SourceName  VersionNum  \\\n",
      "0             2014        AK     21989       HIOS           6   \n",
      "1             2014        AK     38344       HIOS           6   \n",
      "2             2014        AK     38536       HIOS           2   \n",
      "3             2014        AK     42507       HIOS           3   \n",
      "4             2014        AK     73836       HIOS           6   \n",
      "...            ...       ...       ...        ...         ...   \n",
      "3817          2016        WV     75441      SERFF           2   \n",
      "3818          2016        WV     76526      SERFF           4   \n",
      "3819          2016        WV     76526      SERFF           4   \n",
      "3820          2016        WV     94562      SERFF           2   \n",
      "3821          2016        WV     96480      SERFF           2   \n",
      "\n",
      "               ImportDate  IssuerId2 StateCode2             NetworkName  \\\n",
      "0     2014-03-19 07:06:49      21989         AK             ODS Premier   \n",
      "1     2013-08-28 08:15:53      38344         AK            HeritagePlus   \n",
      "2     2013-08-01 12:48:00      38536         AK  Lincoln Dental Connect   \n",
      "3     2013-09-02 11:39:25      42507         AK   DentalGuard Preferred   \n",
      "4     2014-04-18 11:49:29      73836         AK   Moda Plus AK Regional   \n",
      "...                   ...        ...        ...                     ...   \n",
      "3817  2015-08-20 12:28:36      75441         WV           DenteMax, LLC   \n",
      "3818  2015-08-20 12:28:36      76526         WV        Delta Dental PPO   \n",
      "3819  2015-08-20 12:28:36      76526         WV        Delta Dental PPO   \n",
      "3820  2015-08-20 12:28:36      94562         WV                PDP PLUS   \n",
      "3821  2015-08-20 12:28:36      96480         WV   DentalGuard Preferred   \n",
      "\n",
      "     NetworkId                                         NetworkURL  RowNumber  \\\n",
      "0       AKN001  https://www.modahealth.com/ProviderSearch/face...         13   \n",
      "1       AKN001                https://www.premera.com/wa/visitor/         13   \n",
      "2       AKN001  http://lfg.go2dental.com/member/dental_search/...         13   \n",
      "3       AKN001  https://www.guardiananytime.com/fpapp/FPWeb/de...         13   \n",
      "4       AKN001  https://www.modahealth.com/ProviderSearch/face...         13   \n",
      "...        ...                                                ...        ...   \n",
      "3817    WVN001                                   www.dentemax.com         13   \n",
      "3818    WVN001      https://www.deltadentalins.com/find-a-dentist         13   \n",
      "3819    WVN001      https://www.deltadentalins.com/find-a-dentist         13   \n",
      "3820    WVN001  https://metlocator.metlife.com/metlocator/exec...         13   \n",
      "3821    WVN001  https://www.guardiananytime.com/fpapp/FPWeb/de...         13   \n",
      "\n",
      "          MarketCoverage DentalOnlyPlan  \n",
      "0                    NaN            NaN  \n",
      "1                    NaN            NaN  \n",
      "2                    NaN            NaN  \n",
      "3                    NaN            NaN  \n",
      "4                    NaN            NaN  \n",
      "...                  ...            ...  \n",
      "3817  SHOP (Small Group)            Yes  \n",
      "3818  SHOP (Small Group)            Yes  \n",
      "3819          Individual            Yes  \n",
      "3820  SHOP (Small Group)            Yes  \n",
      "3821  SHOP (Small Group)            Yes  \n",
      "\n",
      "[3822 rows x 14 columns]\n"
     ]
    },
    {
     "data": {
      "image/png": "[encoded data removed]",
      "text/plain": [
       "<Figure size 640x480 with 1 Axes>"
      ]
     },
     "metadata": {},
     "output_type": "display_data"
    }
   ],
   "source": [
    "import matplotlib.pyplot as plt\n",
    "df = pd.read_csv('/kaggle/input/db2023/Network.csv')\n",
    "print(df)\n",
    "\n",
    "\n",
    "colum = df['IssuerId2']\n",
    "\n",
    "plt.plot(colum)\n",
    "plt.title('IssuerId2')\n",
    "plt.xlabel('Index')\n",
    "plt.ylabel('Column Values')\n",
    "plt.show()"
   ]
  },
  {
   "cell_type": "markdown",
   "id": "6016873b",
   "metadata": {
    "papermill": {
     "duration": 0.014892,
     "end_time": "2023-06-03T21:30:54.192668",
     "exception": false,
     "start_time": "2023-06-03T21:30:54.177776",
     "status": "completed"
    },
    "tags": []
   },
   "source": [
    "## (a) Download the Echocardiogram data set and import it to a data frame. Read the information on the data set and find out how missing values are represented and make sure that they are properly represented."
   ]
  },
  {
   "cell_type": "code",
   "execution_count": 8,
   "id": "ba7795e0",
   "metadata": {
    "execution": {
     "iopub.execute_input": "2023-06-03T21:30:54.225283Z",
     "iopub.status.busy": "2023-06-03T21:30:54.224842Z",
     "iopub.status.idle": "2023-06-03T21:30:54.267011Z",
     "shell.execute_reply": "2023-06-03T21:30:54.265752Z"
    },
    "papermill": {
     "duration": 0.061836,
     "end_time": "2023-06-03T21:30:54.269550",
     "exception": false,
     "start_time": "2023-06-03T21:30:54.207714",
     "status": "completed"
    },
    "tags": []
   },
   "outputs": [
    {
     "data": {
      "text/html": [
       "<div>\n",
       "<style scoped>\n",
       "    .dataframe tbody tr th:only-of-type {\n",
       "        vertical-align: middle;\n",
       "    }\n",
       "\n",
       "    .dataframe tbody tr th {\n",
       "        vertical-align: top;\n",
       "    }\n",
       "\n",
       "    .dataframe thead th {\n",
       "        text-align: right;\n",
       "    }\n",
       "</style>\n",
       "<table border=\"1\" class=\"dataframe\">\n",
       "  <thead>\n",
       "    <tr style=\"text-align: right;\">\n",
       "      <th></th>\n",
       "      <th>0</th>\n",
       "      <th>1</th>\n",
       "      <th>2</th>\n",
       "      <th>3</th>\n",
       "      <th>4</th>\n",
       "      <th>5</th>\n",
       "      <th>6</th>\n",
       "      <th>7</th>\n",
       "      <th>8</th>\n",
       "      <th>9</th>\n",
       "      <th>10</th>\n",
       "      <th>11</th>\n",
       "      <th>12</th>\n",
       "      <th>13</th>\n",
       "    </tr>\n",
       "  </thead>\n",
       "  <tbody>\n",
       "    <tr>\n",
       "      <th>0</th>\n",
       "      <td>19</td>\n",
       "      <td>0</td>\n",
       "      <td>72</td>\n",
       "      <td>0</td>\n",
       "      <td>0.380</td>\n",
       "      <td>6</td>\n",
       "      <td>4.100</td>\n",
       "      <td>14</td>\n",
       "      <td>1.700</td>\n",
       "      <td>0.588</td>\n",
       "      <td>name</td>\n",
       "      <td>1</td>\n",
       "      <td>0</td>\n",
       "      <td>None</td>\n",
       "    </tr>\n",
       "    <tr>\n",
       "      <th>1</th>\n",
       "      <td>16</td>\n",
       "      <td>0</td>\n",
       "      <td>55</td>\n",
       "      <td>0</td>\n",
       "      <td>0.260</td>\n",
       "      <td>4</td>\n",
       "      <td>3.420</td>\n",
       "      <td>14</td>\n",
       "      <td>1</td>\n",
       "      <td>1</td>\n",
       "      <td>name</td>\n",
       "      <td>1</td>\n",
       "      <td>0</td>\n",
       "      <td>None</td>\n",
       "    </tr>\n",
       "    <tr>\n",
       "      <th>2</th>\n",
       "      <td>57</td>\n",
       "      <td>0</td>\n",
       "      <td>60</td>\n",
       "      <td>0</td>\n",
       "      <td>0.253</td>\n",
       "      <td>12.062</td>\n",
       "      <td>4.603</td>\n",
       "      <td>16</td>\n",
       "      <td>1.450</td>\n",
       "      <td>0.788</td>\n",
       "      <td>name</td>\n",
       "      <td>1</td>\n",
       "      <td>0</td>\n",
       "      <td>None</td>\n",
       "    </tr>\n",
       "    <tr>\n",
       "      <th>3</th>\n",
       "      <td>19</td>\n",
       "      <td>1</td>\n",
       "      <td>57</td>\n",
       "      <td>0</td>\n",
       "      <td>0.160</td>\n",
       "      <td>22</td>\n",
       "      <td>5.750</td>\n",
       "      <td>18</td>\n",
       "      <td>2.250</td>\n",
       "      <td>0.571</td>\n",
       "      <td>name</td>\n",
       "      <td>1</td>\n",
       "      <td>0</td>\n",
       "      <td>None</td>\n",
       "    </tr>\n",
       "    <tr>\n",
       "      <th>4</th>\n",
       "      <td>26</td>\n",
       "      <td>0</td>\n",
       "      <td>68</td>\n",
       "      <td>0</td>\n",
       "      <td>0.260</td>\n",
       "      <td>5</td>\n",
       "      <td>4.310</td>\n",
       "      <td>12</td>\n",
       "      <td>1</td>\n",
       "      <td>0.857</td>\n",
       "      <td>name</td>\n",
       "      <td>1</td>\n",
       "      <td>0</td>\n",
       "      <td>None</td>\n",
       "    </tr>\n",
       "    <tr>\n",
       "      <th>...</th>\n",
       "      <td>...</td>\n",
       "      <td>...</td>\n",
       "      <td>...</td>\n",
       "      <td>...</td>\n",
       "      <td>...</td>\n",
       "      <td>...</td>\n",
       "      <td>...</td>\n",
       "      <td>...</td>\n",
       "      <td>...</td>\n",
       "      <td>...</td>\n",
       "      <td>...</td>\n",
       "      <td>...</td>\n",
       "      <td>...</td>\n",
       "      <td>...</td>\n",
       "    </tr>\n",
       "    <tr>\n",
       "      <th>126</th>\n",
       "      <td>7.5</td>\n",
       "      <td>1</td>\n",
       "      <td>64</td>\n",
       "      <td>0</td>\n",
       "      <td>0.24</td>\n",
       "      <td>12.9</td>\n",
       "      <td>4.72</td>\n",
       "      <td>12</td>\n",
       "      <td>1</td>\n",
       "      <td>0.857</td>\n",
       "      <td>name</td>\n",
       "      <td>?</td>\n",
       "      <td>?</td>\n",
       "      <td>None</td>\n",
       "    </tr>\n",
       "    <tr>\n",
       "      <th>127</th>\n",
       "      <td>41</td>\n",
       "      <td>0</td>\n",
       "      <td>64</td>\n",
       "      <td>0</td>\n",
       "      <td>0.28</td>\n",
       "      <td>5.40</td>\n",
       "      <td>5.47</td>\n",
       "      <td>11</td>\n",
       "      <td>1.10</td>\n",
       "      <td>0.714</td>\n",
       "      <td>name</td>\n",
       "      <td>?</td>\n",
       "      <td>?</td>\n",
       "      <td>None</td>\n",
       "    </tr>\n",
       "    <tr>\n",
       "      <th>128</th>\n",
       "      <td>36</td>\n",
       "      <td>0</td>\n",
       "      <td>69</td>\n",
       "      <td>0</td>\n",
       "      <td>0.20</td>\n",
       "      <td>7.00</td>\n",
       "      <td>5.05</td>\n",
       "      <td>14.5</td>\n",
       "      <td>1.21</td>\n",
       "      <td>0.857</td>\n",
       "      <td>name</td>\n",
       "      <td>?</td>\n",
       "      <td>?</td>\n",
       "      <td>None</td>\n",
       "    </tr>\n",
       "    <tr>\n",
       "      <th>129</th>\n",
       "      <td>22</td>\n",
       "      <td>0</td>\n",
       "      <td>57</td>\n",
       "      <td>0</td>\n",
       "      <td>0.14</td>\n",
       "      <td>16.1</td>\n",
       "      <td>4.36</td>\n",
       "      <td>15</td>\n",
       "      <td>1.36</td>\n",
       "      <td>0.786</td>\n",
       "      <td>name</td>\n",
       "      <td>?</td>\n",
       "      <td>?</td>\n",
       "      <td>None</td>\n",
       "    </tr>\n",
       "    <tr>\n",
       "      <th>130</th>\n",
       "      <td>20</td>\n",
       "      <td>0</td>\n",
       "      <td>62</td>\n",
       "      <td>0</td>\n",
       "      <td>0.15</td>\n",
       "      <td>0</td>\n",
       "      <td>4.51</td>\n",
       "      <td>15.5</td>\n",
       "      <td>1.409</td>\n",
       "      <td>0.786</td>\n",
       "      <td>name</td>\n",
       "      <td>?</td>\n",
       "      <td>?</td>\n",
       "      <td>None</td>\n",
       "    </tr>\n",
       "  </tbody>\n",
       "</table>\n",
       "<p>131 rows × 14 columns</p>\n",
       "</div>"
      ],
      "text/plain": [
       "      0  1   2  3      4       5      6     7      8      9     10 11 12    13\n",
       "0     19  0  72  0  0.380       6  4.100    14  1.700  0.588  name  1  0  None\n",
       "1     16  0  55  0  0.260       4  3.420    14      1      1  name  1  0  None\n",
       "2     57  0  60  0  0.253  12.062  4.603    16  1.450  0.788  name  1  0  None\n",
       "3     19  1  57  0  0.160      22  5.750    18  2.250  0.571  name  1  0  None\n",
       "4     26  0  68  0  0.260       5  4.310    12      1  0.857  name  1  0  None\n",
       "..   ... ..  .. ..    ...     ...    ...   ...    ...    ...   ... .. ..   ...\n",
       "126  7.5  1  64  0   0.24    12.9   4.72    12      1  0.857  name  ?  ?  None\n",
       "127   41  0  64  0   0.28    5.40   5.47    11   1.10  0.714  name  ?  ?  None\n",
       "128   36  0  69  0   0.20    7.00   5.05  14.5   1.21  0.857  name  ?  ?  None\n",
       "129   22  0  57  0   0.14    16.1   4.36    15   1.36  0.786  name  ?  ?  None\n",
       "130   20  0  62  0   0.15       0   4.51  15.5  1.409  0.786  name  ?  ?  None\n",
       "\n",
       "[131 rows x 14 columns]"
      ]
     },
     "execution_count": 8,
     "metadata": {},
     "output_type": "execute_result"
    }
   ],
   "source": [
    "ruta_archivo = '../input/electro/echocardiogram1.data'  # Reemplaza con la ruta y nombre de archivo adecuados\n",
    "df = pd.read_csv(ruta_archivo, sep=' ', na_values='?')\n",
    "\n",
    "# Crear el DataFrame con las columnas separadas\n",
    "df_separado = df.iloc[:, 0].str.split(',', expand=True)\n",
    "\n",
    "df = df_separado\n",
    "df"
   ]
  },
  {
   "cell_type": "markdown",
   "id": "1de663c8",
   "metadata": {
    "papermill": {
     "duration": 0.01534,
     "end_time": "2023-06-03T21:30:54.301162",
     "exception": false,
     "start_time": "2023-06-03T21:30:54.285822",
     "status": "completed"
    },
    "tags": []
   },
   "source": [
    "##  (b) Assign the attributes with meaningful names. You can look for this information on the same webpage."
   ]
  },
  {
   "cell_type": "code",
   "execution_count": 9,
   "id": "91ca3cd2",
   "metadata": {
    "execution": {
     "iopub.execute_input": "2023-06-03T21:30:54.334196Z",
     "iopub.status.busy": "2023-06-03T21:30:54.333790Z",
     "iopub.status.idle": "2023-06-03T21:30:54.358465Z",
     "shell.execute_reply": "2023-06-03T21:30:54.357603Z"
    },
    "papermill": {
     "duration": 0.044012,
     "end_time": "2023-06-03T21:30:54.360652",
     "exception": false,
     "start_time": "2023-06-03T21:30:54.316640",
     "status": "completed"
    },
    "tags": []
   },
   "outputs": [
    {
     "data": {
      "text/html": [
       "<div>\n",
       "<style scoped>\n",
       "    .dataframe tbody tr th:only-of-type {\n",
       "        vertical-align: middle;\n",
       "    }\n",
       "\n",
       "    .dataframe tbody tr th {\n",
       "        vertical-align: top;\n",
       "    }\n",
       "\n",
       "    .dataframe thead th {\n",
       "        text-align: right;\n",
       "    }\n",
       "</style>\n",
       "<table border=\"1\" class=\"dataframe\">\n",
       "  <thead>\n",
       "    <tr style=\"text-align: right;\">\n",
       "      <th></th>\n",
       "      <th>survival</th>\n",
       "      <th>still_alive</th>\n",
       "      <th>age</th>\n",
       "      <th>pericardial_effusion</th>\n",
       "      <th>fractional_shortening</th>\n",
       "      <th>epss</th>\n",
       "      <th>lvdd</th>\n",
       "      <th>wall_motion_score</th>\n",
       "      <th>wall_motion_index</th>\n",
       "      <th>mult</th>\n",
       "      <th>name</th>\n",
       "      <th>group</th>\n",
       "      <th>alive_at_1</th>\n",
       "      <th>unnamed</th>\n",
       "    </tr>\n",
       "  </thead>\n",
       "  <tbody>\n",
       "    <tr>\n",
       "      <th>0</th>\n",
       "      <td>19</td>\n",
       "      <td>0</td>\n",
       "      <td>72</td>\n",
       "      <td>0</td>\n",
       "      <td>0.380</td>\n",
       "      <td>6</td>\n",
       "      <td>4.100</td>\n",
       "      <td>14</td>\n",
       "      <td>1.700</td>\n",
       "      <td>0.588</td>\n",
       "      <td>name</td>\n",
       "      <td>1</td>\n",
       "      <td>0</td>\n",
       "      <td>None</td>\n",
       "    </tr>\n",
       "    <tr>\n",
       "      <th>1</th>\n",
       "      <td>16</td>\n",
       "      <td>0</td>\n",
       "      <td>55</td>\n",
       "      <td>0</td>\n",
       "      <td>0.260</td>\n",
       "      <td>4</td>\n",
       "      <td>3.420</td>\n",
       "      <td>14</td>\n",
       "      <td>1</td>\n",
       "      <td>1</td>\n",
       "      <td>name</td>\n",
       "      <td>1</td>\n",
       "      <td>0</td>\n",
       "      <td>None</td>\n",
       "    </tr>\n",
       "    <tr>\n",
       "      <th>2</th>\n",
       "      <td>57</td>\n",
       "      <td>0</td>\n",
       "      <td>60</td>\n",
       "      <td>0</td>\n",
       "      <td>0.253</td>\n",
       "      <td>12.062</td>\n",
       "      <td>4.603</td>\n",
       "      <td>16</td>\n",
       "      <td>1.450</td>\n",
       "      <td>0.788</td>\n",
       "      <td>name</td>\n",
       "      <td>1</td>\n",
       "      <td>0</td>\n",
       "      <td>None</td>\n",
       "    </tr>\n",
       "    <tr>\n",
       "      <th>3</th>\n",
       "      <td>19</td>\n",
       "      <td>1</td>\n",
       "      <td>57</td>\n",
       "      <td>0</td>\n",
       "      <td>0.160</td>\n",
       "      <td>22</td>\n",
       "      <td>5.750</td>\n",
       "      <td>18</td>\n",
       "      <td>2.250</td>\n",
       "      <td>0.571</td>\n",
       "      <td>name</td>\n",
       "      <td>1</td>\n",
       "      <td>0</td>\n",
       "      <td>None</td>\n",
       "    </tr>\n",
       "    <tr>\n",
       "      <th>4</th>\n",
       "      <td>26</td>\n",
       "      <td>0</td>\n",
       "      <td>68</td>\n",
       "      <td>0</td>\n",
       "      <td>0.260</td>\n",
       "      <td>5</td>\n",
       "      <td>4.310</td>\n",
       "      <td>12</td>\n",
       "      <td>1</td>\n",
       "      <td>0.857</td>\n",
       "      <td>name</td>\n",
       "      <td>1</td>\n",
       "      <td>0</td>\n",
       "      <td>None</td>\n",
       "    </tr>\n",
       "    <tr>\n",
       "      <th>...</th>\n",
       "      <td>...</td>\n",
       "      <td>...</td>\n",
       "      <td>...</td>\n",
       "      <td>...</td>\n",
       "      <td>...</td>\n",
       "      <td>...</td>\n",
       "      <td>...</td>\n",
       "      <td>...</td>\n",
       "      <td>...</td>\n",
       "      <td>...</td>\n",
       "      <td>...</td>\n",
       "      <td>...</td>\n",
       "      <td>...</td>\n",
       "      <td>...</td>\n",
       "    </tr>\n",
       "    <tr>\n",
       "      <th>126</th>\n",
       "      <td>7.5</td>\n",
       "      <td>1</td>\n",
       "      <td>64</td>\n",
       "      <td>0</td>\n",
       "      <td>0.24</td>\n",
       "      <td>12.9</td>\n",
       "      <td>4.72</td>\n",
       "      <td>12</td>\n",
       "      <td>1</td>\n",
       "      <td>0.857</td>\n",
       "      <td>name</td>\n",
       "      <td>?</td>\n",
       "      <td>?</td>\n",
       "      <td>None</td>\n",
       "    </tr>\n",
       "    <tr>\n",
       "      <th>127</th>\n",
       "      <td>41</td>\n",
       "      <td>0</td>\n",
       "      <td>64</td>\n",
       "      <td>0</td>\n",
       "      <td>0.28</td>\n",
       "      <td>5.40</td>\n",
       "      <td>5.47</td>\n",
       "      <td>11</td>\n",
       "      <td>1.10</td>\n",
       "      <td>0.714</td>\n",
       "      <td>name</td>\n",
       "      <td>?</td>\n",
       "      <td>?</td>\n",
       "      <td>None</td>\n",
       "    </tr>\n",
       "    <tr>\n",
       "      <th>128</th>\n",
       "      <td>36</td>\n",
       "      <td>0</td>\n",
       "      <td>69</td>\n",
       "      <td>0</td>\n",
       "      <td>0.20</td>\n",
       "      <td>7.00</td>\n",
       "      <td>5.05</td>\n",
       "      <td>14.5</td>\n",
       "      <td>1.21</td>\n",
       "      <td>0.857</td>\n",
       "      <td>name</td>\n",
       "      <td>?</td>\n",
       "      <td>?</td>\n",
       "      <td>None</td>\n",
       "    </tr>\n",
       "    <tr>\n",
       "      <th>129</th>\n",
       "      <td>22</td>\n",
       "      <td>0</td>\n",
       "      <td>57</td>\n",
       "      <td>0</td>\n",
       "      <td>0.14</td>\n",
       "      <td>16.1</td>\n",
       "      <td>4.36</td>\n",
       "      <td>15</td>\n",
       "      <td>1.36</td>\n",
       "      <td>0.786</td>\n",
       "      <td>name</td>\n",
       "      <td>?</td>\n",
       "      <td>?</td>\n",
       "      <td>None</td>\n",
       "    </tr>\n",
       "    <tr>\n",
       "      <th>130</th>\n",
       "      <td>20</td>\n",
       "      <td>0</td>\n",
       "      <td>62</td>\n",
       "      <td>0</td>\n",
       "      <td>0.15</td>\n",
       "      <td>0</td>\n",
       "      <td>4.51</td>\n",
       "      <td>15.5</td>\n",
       "      <td>1.409</td>\n",
       "      <td>0.786</td>\n",
       "      <td>name</td>\n",
       "      <td>?</td>\n",
       "      <td>?</td>\n",
       "      <td>None</td>\n",
       "    </tr>\n",
       "  </tbody>\n",
       "</table>\n",
       "<p>131 rows × 14 columns</p>\n",
       "</div>"
      ],
      "text/plain": [
       "    survival still_alive age pericardial_effusion fractional_shortening  \\\n",
       "0         19           0  72                    0                 0.380   \n",
       "1         16           0  55                    0                 0.260   \n",
       "2         57           0  60                    0                 0.253   \n",
       "3         19           1  57                    0                 0.160   \n",
       "4         26           0  68                    0                 0.260   \n",
       "..       ...         ...  ..                  ...                   ...   \n",
       "126      7.5           1  64                    0                  0.24   \n",
       "127       41           0  64                    0                  0.28   \n",
       "128       36           0  69                    0                  0.20   \n",
       "129       22           0  57                    0                  0.14   \n",
       "130       20           0  62                    0                  0.15   \n",
       "\n",
       "       epss   lvdd wall_motion_score wall_motion_index   mult  name group  \\\n",
       "0         6  4.100                14             1.700  0.588  name     1   \n",
       "1         4  3.420                14                 1      1  name     1   \n",
       "2    12.062  4.603                16             1.450  0.788  name     1   \n",
       "3        22  5.750                18             2.250  0.571  name     1   \n",
       "4         5  4.310                12                 1  0.857  name     1   \n",
       "..      ...    ...               ...               ...    ...   ...   ...   \n",
       "126    12.9   4.72                12                 1  0.857  name     ?   \n",
       "127    5.40   5.47                11              1.10  0.714  name     ?   \n",
       "128    7.00   5.05              14.5              1.21  0.857  name     ?   \n",
       "129    16.1   4.36                15              1.36  0.786  name     ?   \n",
       "130       0   4.51              15.5             1.409  0.786  name     ?   \n",
       "\n",
       "    alive_at_1 unnamed  \n",
       "0            0    None  \n",
       "1            0    None  \n",
       "2            0    None  \n",
       "3            0    None  \n",
       "4            0    None  \n",
       "..         ...     ...  \n",
       "126          ?    None  \n",
       "127          ?    None  \n",
       "128          ?    None  \n",
       "129          ?    None  \n",
       "130          ?    None  \n",
       "\n",
       "[131 rows x 14 columns]"
      ]
     },
     "execution_count": 9,
     "metadata": {},
     "output_type": "execute_result"
    }
   ],
   "source": [
    "nombres_atributos = ['survival', 'still_alive', 'age', 'pericardial_effusion', 'fractional_shortening',\n",
    "                     'epss', 'lvdd', 'wall_motion_score', 'wall_motion_index', 'mult', 'name', 'group',\n",
    "                     'alive_at_1', 'unnamed']\n",
    "\n",
    "df_separado.columns = nombres_atributos\n",
    "df_separado"
   ]
  },
  {
   "cell_type": "markdown",
   "id": "b06b2693",
   "metadata": {
    "papermill": {
     "duration": 0.016332,
     "end_time": "2023-06-03T21:30:54.393243",
     "exception": false,
     "start_time": "2023-06-03T21:30:54.376911",
     "status": "completed"
    },
    "tags": []
   },
   "source": [
    "## (c) According to that same information, is there any redundant or irrelevant attribute that you can remove? Remove them.\n"
   ]
  },
  {
   "cell_type": "code",
   "execution_count": 10,
   "id": "417426ec",
   "metadata": {
    "execution": {
     "iopub.execute_input": "2023-06-03T21:30:54.428722Z",
     "iopub.status.busy": "2023-06-03T21:30:54.427262Z",
     "iopub.status.idle": "2023-06-03T21:30:54.449418Z",
     "shell.execute_reply": "2023-06-03T21:30:54.448034Z"
    },
    "papermill": {
     "duration": 0.042656,
     "end_time": "2023-06-03T21:30:54.452174",
     "exception": false,
     "start_time": "2023-06-03T21:30:54.409518",
     "status": "completed"
    },
    "tags": []
   },
   "outputs": [
    {
     "data": {
      "text/html": [
       "<div>\n",
       "<style scoped>\n",
       "    .dataframe tbody tr th:only-of-type {\n",
       "        vertical-align: middle;\n",
       "    }\n",
       "\n",
       "    .dataframe tbody tr th {\n",
       "        vertical-align: top;\n",
       "    }\n",
       "\n",
       "    .dataframe thead th {\n",
       "        text-align: right;\n",
       "    }\n",
       "</style>\n",
       "<table border=\"1\" class=\"dataframe\">\n",
       "  <thead>\n",
       "    <tr style=\"text-align: right;\">\n",
       "      <th></th>\n",
       "      <th>survival</th>\n",
       "      <th>age</th>\n",
       "      <th>fractional_shortening</th>\n",
       "      <th>epss</th>\n",
       "      <th>lvdd</th>\n",
       "      <th>wall_motion_score</th>\n",
       "      <th>wall_motion_index</th>\n",
       "      <th>mult</th>\n",
       "    </tr>\n",
       "  </thead>\n",
       "  <tbody>\n",
       "    <tr>\n",
       "      <th>0</th>\n",
       "      <td>19</td>\n",
       "      <td>72</td>\n",
       "      <td>0.380</td>\n",
       "      <td>6</td>\n",
       "      <td>4.100</td>\n",
       "      <td>14</td>\n",
       "      <td>1.700</td>\n",
       "      <td>0.588</td>\n",
       "    </tr>\n",
       "    <tr>\n",
       "      <th>1</th>\n",
       "      <td>16</td>\n",
       "      <td>55</td>\n",
       "      <td>0.260</td>\n",
       "      <td>4</td>\n",
       "      <td>3.420</td>\n",
       "      <td>14</td>\n",
       "      <td>1</td>\n",
       "      <td>1</td>\n",
       "    </tr>\n",
       "    <tr>\n",
       "      <th>2</th>\n",
       "      <td>57</td>\n",
       "      <td>60</td>\n",
       "      <td>0.253</td>\n",
       "      <td>12.062</td>\n",
       "      <td>4.603</td>\n",
       "      <td>16</td>\n",
       "      <td>1.450</td>\n",
       "      <td>0.788</td>\n",
       "    </tr>\n",
       "    <tr>\n",
       "      <th>3</th>\n",
       "      <td>19</td>\n",
       "      <td>57</td>\n",
       "      <td>0.160</td>\n",
       "      <td>22</td>\n",
       "      <td>5.750</td>\n",
       "      <td>18</td>\n",
       "      <td>2.250</td>\n",
       "      <td>0.571</td>\n",
       "    </tr>\n",
       "    <tr>\n",
       "      <th>4</th>\n",
       "      <td>26</td>\n",
       "      <td>68</td>\n",
       "      <td>0.260</td>\n",
       "      <td>5</td>\n",
       "      <td>4.310</td>\n",
       "      <td>12</td>\n",
       "      <td>1</td>\n",
       "      <td>0.857</td>\n",
       "    </tr>\n",
       "    <tr>\n",
       "      <th>...</th>\n",
       "      <td>...</td>\n",
       "      <td>...</td>\n",
       "      <td>...</td>\n",
       "      <td>...</td>\n",
       "      <td>...</td>\n",
       "      <td>...</td>\n",
       "      <td>...</td>\n",
       "      <td>...</td>\n",
       "    </tr>\n",
       "    <tr>\n",
       "      <th>126</th>\n",
       "      <td>7.5</td>\n",
       "      <td>64</td>\n",
       "      <td>0.24</td>\n",
       "      <td>12.9</td>\n",
       "      <td>4.72</td>\n",
       "      <td>12</td>\n",
       "      <td>1</td>\n",
       "      <td>0.857</td>\n",
       "    </tr>\n",
       "    <tr>\n",
       "      <th>127</th>\n",
       "      <td>41</td>\n",
       "      <td>64</td>\n",
       "      <td>0.28</td>\n",
       "      <td>5.40</td>\n",
       "      <td>5.47</td>\n",
       "      <td>11</td>\n",
       "      <td>1.10</td>\n",
       "      <td>0.714</td>\n",
       "    </tr>\n",
       "    <tr>\n",
       "      <th>128</th>\n",
       "      <td>36</td>\n",
       "      <td>69</td>\n",
       "      <td>0.20</td>\n",
       "      <td>7.00</td>\n",
       "      <td>5.05</td>\n",
       "      <td>14.5</td>\n",
       "      <td>1.21</td>\n",
       "      <td>0.857</td>\n",
       "    </tr>\n",
       "    <tr>\n",
       "      <th>129</th>\n",
       "      <td>22</td>\n",
       "      <td>57</td>\n",
       "      <td>0.14</td>\n",
       "      <td>16.1</td>\n",
       "      <td>4.36</td>\n",
       "      <td>15</td>\n",
       "      <td>1.36</td>\n",
       "      <td>0.786</td>\n",
       "    </tr>\n",
       "    <tr>\n",
       "      <th>130</th>\n",
       "      <td>20</td>\n",
       "      <td>62</td>\n",
       "      <td>0.15</td>\n",
       "      <td>0</td>\n",
       "      <td>4.51</td>\n",
       "      <td>15.5</td>\n",
       "      <td>1.409</td>\n",
       "      <td>0.786</td>\n",
       "    </tr>\n",
       "  </tbody>\n",
       "</table>\n",
       "<p>131 rows × 8 columns</p>\n",
       "</div>"
      ],
      "text/plain": [
       "    survival age fractional_shortening    epss   lvdd wall_motion_score  \\\n",
       "0         19  72                 0.380       6  4.100                14   \n",
       "1         16  55                 0.260       4  3.420                14   \n",
       "2         57  60                 0.253  12.062  4.603                16   \n",
       "3         19  57                 0.160      22  5.750                18   \n",
       "4         26  68                 0.260       5  4.310                12   \n",
       "..       ...  ..                   ...     ...    ...               ...   \n",
       "126      7.5  64                  0.24    12.9   4.72                12   \n",
       "127       41  64                  0.28    5.40   5.47                11   \n",
       "128       36  69                  0.20    7.00   5.05              14.5   \n",
       "129       22  57                  0.14    16.1   4.36                15   \n",
       "130       20  62                  0.15       0   4.51              15.5   \n",
       "\n",
       "    wall_motion_index   mult  \n",
       "0               1.700  0.588  \n",
       "1                   1      1  \n",
       "2               1.450  0.788  \n",
       "3               2.250  0.571  \n",
       "4                   1  0.857  \n",
       "..                ...    ...  \n",
       "126                 1  0.857  \n",
       "127              1.10  0.714  \n",
       "128              1.21  0.857  \n",
       "129              1.36  0.786  \n",
       "130             1.409  0.786  \n",
       "\n",
       "[131 rows x 8 columns]"
      ]
     },
     "execution_count": 10,
     "metadata": {},
     "output_type": "execute_result"
    }
   ],
   "source": [
    "columnas_eliminar = ['still_alive', 'pericardial_effusion', 'name', 'group', 'alive_at_1', 'unnamed']\n",
    "df_separado = df_separado.drop(columnas_eliminar, axis=1)\n",
    "df_separado"
   ]
  },
  {
   "cell_type": "markdown",
   "id": "7c0df4c4",
   "metadata": {
    "papermill": {
     "duration": 0.016735,
     "end_time": "2023-06-03T21:30:54.486025",
     "exception": false,
     "start_time": "2023-06-03T21:30:54.469290",
     "status": "completed"
    },
    "tags": []
   },
   "source": [
    "## Is there any data type change that you find useful? Perform it"
   ]
  },
  {
   "cell_type": "code",
   "execution_count": 11,
   "id": "3799e0a2",
   "metadata": {
    "execution": {
     "iopub.execute_input": "2023-06-03T21:30:54.521489Z",
     "iopub.status.busy": "2023-06-03T21:30:54.520610Z",
     "iopub.status.idle": "2023-06-03T21:30:54.559671Z",
     "shell.execute_reply": "2023-06-03T21:30:54.558416Z"
    },
    "papermill": {
     "duration": 0.059863,
     "end_time": "2023-06-03T21:30:54.562334",
     "exception": false,
     "start_time": "2023-06-03T21:30:54.502471",
     "status": "completed"
    },
    "tags": []
   },
   "outputs": [
    {
     "data": {
      "text/html": [
       "<div>\n",
       "<style scoped>\n",
       "    .dataframe tbody tr th:only-of-type {\n",
       "        vertical-align: middle;\n",
       "    }\n",
       "\n",
       "    .dataframe tbody tr th {\n",
       "        vertical-align: top;\n",
       "    }\n",
       "\n",
       "    .dataframe thead th {\n",
       "        text-align: right;\n",
       "    }\n",
       "</style>\n",
       "<table border=\"1\" class=\"dataframe\">\n",
       "  <thead>\n",
       "    <tr style=\"text-align: right;\">\n",
       "      <th></th>\n",
       "      <th>survival</th>\n",
       "      <th>age</th>\n",
       "      <th>fractional_shortening</th>\n",
       "      <th>epss</th>\n",
       "      <th>lvdd</th>\n",
       "      <th>wall_motion_score</th>\n",
       "      <th>wall_motion_index</th>\n",
       "      <th>mult</th>\n",
       "    </tr>\n",
       "  </thead>\n",
       "  <tbody>\n",
       "    <tr>\n",
       "      <th>0</th>\n",
       "      <td>19.0</td>\n",
       "      <td>72.0</td>\n",
       "      <td>0.380</td>\n",
       "      <td>6.000</td>\n",
       "      <td>4.100</td>\n",
       "      <td>14.0</td>\n",
       "      <td>1.700</td>\n",
       "      <td>0.588</td>\n",
       "    </tr>\n",
       "    <tr>\n",
       "      <th>1</th>\n",
       "      <td>16.0</td>\n",
       "      <td>55.0</td>\n",
       "      <td>0.260</td>\n",
       "      <td>4.000</td>\n",
       "      <td>3.420</td>\n",
       "      <td>14.0</td>\n",
       "      <td>1.000</td>\n",
       "      <td>1.000</td>\n",
       "    </tr>\n",
       "    <tr>\n",
       "      <th>2</th>\n",
       "      <td>57.0</td>\n",
       "      <td>60.0</td>\n",
       "      <td>0.253</td>\n",
       "      <td>12.062</td>\n",
       "      <td>4.603</td>\n",
       "      <td>16.0</td>\n",
       "      <td>1.450</td>\n",
       "      <td>0.788</td>\n",
       "    </tr>\n",
       "    <tr>\n",
       "      <th>3</th>\n",
       "      <td>19.0</td>\n",
       "      <td>57.0</td>\n",
       "      <td>0.160</td>\n",
       "      <td>22.000</td>\n",
       "      <td>5.750</td>\n",
       "      <td>18.0</td>\n",
       "      <td>2.250</td>\n",
       "      <td>0.571</td>\n",
       "    </tr>\n",
       "    <tr>\n",
       "      <th>4</th>\n",
       "      <td>26.0</td>\n",
       "      <td>68.0</td>\n",
       "      <td>0.260</td>\n",
       "      <td>5.000</td>\n",
       "      <td>4.310</td>\n",
       "      <td>12.0</td>\n",
       "      <td>1.000</td>\n",
       "      <td>0.857</td>\n",
       "    </tr>\n",
       "    <tr>\n",
       "      <th>...</th>\n",
       "      <td>...</td>\n",
       "      <td>...</td>\n",
       "      <td>...</td>\n",
       "      <td>...</td>\n",
       "      <td>...</td>\n",
       "      <td>...</td>\n",
       "      <td>...</td>\n",
       "      <td>...</td>\n",
       "    </tr>\n",
       "    <tr>\n",
       "      <th>126</th>\n",
       "      <td>7.5</td>\n",
       "      <td>64.0</td>\n",
       "      <td>0.240</td>\n",
       "      <td>12.900</td>\n",
       "      <td>4.720</td>\n",
       "      <td>12.0</td>\n",
       "      <td>1.000</td>\n",
       "      <td>0.857</td>\n",
       "    </tr>\n",
       "    <tr>\n",
       "      <th>127</th>\n",
       "      <td>41.0</td>\n",
       "      <td>64.0</td>\n",
       "      <td>0.280</td>\n",
       "      <td>5.400</td>\n",
       "      <td>5.470</td>\n",
       "      <td>11.0</td>\n",
       "      <td>1.100</td>\n",
       "      <td>0.714</td>\n",
       "    </tr>\n",
       "    <tr>\n",
       "      <th>128</th>\n",
       "      <td>36.0</td>\n",
       "      <td>69.0</td>\n",
       "      <td>0.200</td>\n",
       "      <td>7.000</td>\n",
       "      <td>5.050</td>\n",
       "      <td>14.5</td>\n",
       "      <td>1.210</td>\n",
       "      <td>0.857</td>\n",
       "    </tr>\n",
       "    <tr>\n",
       "      <th>129</th>\n",
       "      <td>22.0</td>\n",
       "      <td>57.0</td>\n",
       "      <td>0.140</td>\n",
       "      <td>16.100</td>\n",
       "      <td>4.360</td>\n",
       "      <td>15.0</td>\n",
       "      <td>1.360</td>\n",
       "      <td>0.786</td>\n",
       "    </tr>\n",
       "    <tr>\n",
       "      <th>130</th>\n",
       "      <td>20.0</td>\n",
       "      <td>62.0</td>\n",
       "      <td>0.150</td>\n",
       "      <td>0.000</td>\n",
       "      <td>4.510</td>\n",
       "      <td>15.5</td>\n",
       "      <td>1.409</td>\n",
       "      <td>0.786</td>\n",
       "    </tr>\n",
       "  </tbody>\n",
       "</table>\n",
       "<p>131 rows × 8 columns</p>\n",
       "</div>"
      ],
      "text/plain": [
       "     survival   age  fractional_shortening    epss   lvdd  wall_motion_score  \\\n",
       "0        19.0  72.0                  0.380   6.000  4.100               14.0   \n",
       "1        16.0  55.0                  0.260   4.000  3.420               14.0   \n",
       "2        57.0  60.0                  0.253  12.062  4.603               16.0   \n",
       "3        19.0  57.0                  0.160  22.000  5.750               18.0   \n",
       "4        26.0  68.0                  0.260   5.000  4.310               12.0   \n",
       "..        ...   ...                    ...     ...    ...                ...   \n",
       "126       7.5  64.0                  0.240  12.900  4.720               12.0   \n",
       "127      41.0  64.0                  0.280   5.400  5.470               11.0   \n",
       "128      36.0  69.0                  0.200   7.000  5.050               14.5   \n",
       "129      22.0  57.0                  0.140  16.100  4.360               15.0   \n",
       "130      20.0  62.0                  0.150   0.000  4.510               15.5   \n",
       "\n",
       "     wall_motion_index   mult  \n",
       "0                1.700  0.588  \n",
       "1                1.000  1.000  \n",
       "2                1.450  0.788  \n",
       "3                2.250  0.571  \n",
       "4                1.000  0.857  \n",
       "..                 ...    ...  \n",
       "126              1.000  0.857  \n",
       "127              1.100  0.714  \n",
       "128              1.210  0.857  \n",
       "129              1.360  0.786  \n",
       "130              1.409  0.786  \n",
       "\n",
       "[131 rows x 8 columns]"
      ]
     },
     "execution_count": 11,
     "metadata": {},
     "output_type": "execute_result"
    }
   ],
   "source": [
    "df_separado['survival'] = df_separado['survival'].replace('', np.nan).replace('?', np.nan).astype(float)\n",
    "df_separado['age'] = df_separado['age'].replace('', np.nan).replace('?', np.nan).astype(float)\n",
    "df_separado['fractional_shortening'] = df_separado['fractional_shortening'].replace('', np.nan).replace('?', np.nan).astype(float)\n",
    "df_separado['epss'] = df_separado['epss'].replace('', np.nan).replace('?', np.nan).astype(float)\n",
    "df_separado['lvdd'] = df_separado['lvdd'].replace('', np.nan).replace('?', np.nan).astype(float)\n",
    "df_separado['wall_motion_score'] = df_separado['wall_motion_score'].replace('', np.nan).replace('?', np.nan).astype(float)\n",
    "df_separado['wall_motion_index'] = df_separado['wall_motion_index'].replace('', np.nan).replace('?', np.nan).astype(float)\n",
    "df_separado['mult'] = df_separado['mult'].replace('', np.nan).replace('?', np.nan).astype(float)\n",
    "df_separado"
   ]
  },
  {
   "cell_type": "markdown",
   "id": "ac2c7d5a",
   "metadata": {
    "papermill": {
     "duration": 0.016813,
     "end_time": "2023-06-03T21:30:54.596005",
     "exception": false,
     "start_time": "2023-06-03T21:30:54.579192",
     "status": "completed"
    },
    "tags": []
   },
   "source": [
    "## Load the airquality data set regarding a set of New York Air Quality Measurements.\n",
    "## (n) For which attributes are there missing values?\n"
   ]
  },
  {
   "cell_type": "code",
   "execution_count": 12,
   "id": "b935631e",
   "metadata": {
    "execution": {
     "iopub.execute_input": "2023-06-03T21:30:54.632704Z",
     "iopub.status.busy": "2023-06-03T21:30:54.632031Z",
     "iopub.status.idle": "2023-06-03T21:30:54.656957Z",
     "shell.execute_reply": "2023-06-03T21:30:54.655788Z"
    },
    "papermill": {
     "duration": 0.045971,
     "end_time": "2023-06-03T21:30:54.659514",
     "exception": false,
     "start_time": "2023-06-03T21:30:54.613543",
     "status": "completed"
    },
    "tags": []
   },
   "outputs": [
    {
     "data": {
      "text/html": [
       "<div>\n",
       "<style scoped>\n",
       "    .dataframe tbody tr th:only-of-type {\n",
       "        vertical-align: middle;\n",
       "    }\n",
       "\n",
       "    .dataframe tbody tr th {\n",
       "        vertical-align: top;\n",
       "    }\n",
       "\n",
       "    .dataframe thead th {\n",
       "        text-align: right;\n",
       "    }\n",
       "</style>\n",
       "<table border=\"1\" class=\"dataframe\">\n",
       "  <thead>\n",
       "    <tr style=\"text-align: right;\">\n",
       "      <th></th>\n",
       "      <th>Ozone</th>\n",
       "      <th>Solar.R</th>\n",
       "      <th>Wind</th>\n",
       "      <th>Temp</th>\n",
       "      <th>Month</th>\n",
       "      <th>Day</th>\n",
       "    </tr>\n",
       "  </thead>\n",
       "  <tbody>\n",
       "    <tr>\n",
       "      <th>0</th>\n",
       "      <td>41.0</td>\n",
       "      <td>190.0</td>\n",
       "      <td>7.4</td>\n",
       "      <td>67</td>\n",
       "      <td>5</td>\n",
       "      <td>1</td>\n",
       "    </tr>\n",
       "    <tr>\n",
       "      <th>1</th>\n",
       "      <td>36.0</td>\n",
       "      <td>118.0</td>\n",
       "      <td>8.0</td>\n",
       "      <td>72</td>\n",
       "      <td>5</td>\n",
       "      <td>2</td>\n",
       "    </tr>\n",
       "    <tr>\n",
       "      <th>2</th>\n",
       "      <td>12.0</td>\n",
       "      <td>149.0</td>\n",
       "      <td>12.6</td>\n",
       "      <td>74</td>\n",
       "      <td>5</td>\n",
       "      <td>3</td>\n",
       "    </tr>\n",
       "    <tr>\n",
       "      <th>3</th>\n",
       "      <td>18.0</td>\n",
       "      <td>313.0</td>\n",
       "      <td>11.5</td>\n",
       "      <td>62</td>\n",
       "      <td>5</td>\n",
       "      <td>4</td>\n",
       "    </tr>\n",
       "    <tr>\n",
       "      <th>4</th>\n",
       "      <td>NaN</td>\n",
       "      <td>NaN</td>\n",
       "      <td>14.3</td>\n",
       "      <td>56</td>\n",
       "      <td>5</td>\n",
       "      <td>5</td>\n",
       "    </tr>\n",
       "    <tr>\n",
       "      <th>...</th>\n",
       "      <td>...</td>\n",
       "      <td>...</td>\n",
       "      <td>...</td>\n",
       "      <td>...</td>\n",
       "      <td>...</td>\n",
       "      <td>...</td>\n",
       "    </tr>\n",
       "    <tr>\n",
       "      <th>148</th>\n",
       "      <td>30.0</td>\n",
       "      <td>193.0</td>\n",
       "      <td>6.9</td>\n",
       "      <td>70</td>\n",
       "      <td>9</td>\n",
       "      <td>26</td>\n",
       "    </tr>\n",
       "    <tr>\n",
       "      <th>149</th>\n",
       "      <td>NaN</td>\n",
       "      <td>145.0</td>\n",
       "      <td>13.2</td>\n",
       "      <td>77</td>\n",
       "      <td>9</td>\n",
       "      <td>27</td>\n",
       "    </tr>\n",
       "    <tr>\n",
       "      <th>150</th>\n",
       "      <td>14.0</td>\n",
       "      <td>191.0</td>\n",
       "      <td>14.3</td>\n",
       "      <td>75</td>\n",
       "      <td>9</td>\n",
       "      <td>28</td>\n",
       "    </tr>\n",
       "    <tr>\n",
       "      <th>151</th>\n",
       "      <td>18.0</td>\n",
       "      <td>131.0</td>\n",
       "      <td>8.0</td>\n",
       "      <td>76</td>\n",
       "      <td>9</td>\n",
       "      <td>29</td>\n",
       "    </tr>\n",
       "    <tr>\n",
       "      <th>152</th>\n",
       "      <td>20.0</td>\n",
       "      <td>223.0</td>\n",
       "      <td>11.5</td>\n",
       "      <td>68</td>\n",
       "      <td>9</td>\n",
       "      <td>30</td>\n",
       "    </tr>\n",
       "  </tbody>\n",
       "</table>\n",
       "<p>153 rows × 6 columns</p>\n",
       "</div>"
      ],
      "text/plain": [
       "     Ozone  Solar.R  Wind  Temp  Month  Day\n",
       "0     41.0    190.0   7.4    67      5    1\n",
       "1     36.0    118.0   8.0    72      5    2\n",
       "2     12.0    149.0  12.6    74      5    3\n",
       "3     18.0    313.0  11.5    62      5    4\n",
       "4      NaN      NaN  14.3    56      5    5\n",
       "..     ...      ...   ...   ...    ...  ...\n",
       "148   30.0    193.0   6.9    70      9   26\n",
       "149    NaN    145.0  13.2    77      9   27\n",
       "150   14.0    191.0  14.3    75      9   28\n",
       "151   18.0    131.0   8.0    76      9   29\n",
       "152   20.0    223.0  11.5    68      9   30\n",
       "\n",
       "[153 rows x 6 columns]"
      ]
     },
     "execution_count": 12,
     "metadata": {},
     "output_type": "execute_result"
    }
   ],
   "source": [
    "df = pd.read_csv('/kaggle/input/aerodata/dataset-66056.csv')\n",
    "missing_values = df.isnull().sum()\n",
    "df\n"
   ]
  },
  {
   "cell_type": "code",
   "execution_count": 13,
   "id": "937fa185",
   "metadata": {
    "execution": {
     "iopub.execute_input": "2023-06-03T21:30:54.696853Z",
     "iopub.status.busy": "2023-06-03T21:30:54.696427Z",
     "iopub.status.idle": "2023-06-03T21:30:54.703906Z",
     "shell.execute_reply": "2023-06-03T21:30:54.703074Z"
    },
    "papermill": {
     "duration": 0.028573,
     "end_time": "2023-06-03T21:30:54.706066",
     "exception": false,
     "start_time": "2023-06-03T21:30:54.677493",
     "status": "completed"
    },
    "tags": []
   },
   "outputs": [
    {
     "data": {
      "text/plain": [
       "Ozone      37\n",
       "Solar.R     7\n",
       "Wind        0\n",
       "Temp        0\n",
       "Month       0\n",
       "Day         0\n",
       "dtype: int64"
      ]
     },
     "execution_count": 13,
     "metadata": {},
     "output_type": "execute_result"
    }
   ],
   "source": [
    "missing_values"
   ]
  },
  {
   "cell_type": "markdown",
   "id": "2b444f6f",
   "metadata": {
    "papermill": {
     "duration": 0.01728,
     "end_time": "2023-06-03T21:30:54.740994",
     "exception": false,
     "start_time": "2023-06-03T21:30:54.723714",
     "status": "completed"
    },
    "tags": []
   },
   "source": [
    "## For which attributes are there missing values?"
   ]
  },
  {
   "cell_type": "code",
   "execution_count": 14,
   "id": "8fe171e7",
   "metadata": {
    "execution": {
     "iopub.execute_input": "2023-06-03T21:30:54.778412Z",
     "iopub.status.busy": "2023-06-03T21:30:54.777766Z",
     "iopub.status.idle": "2023-06-03T21:30:54.785667Z",
     "shell.execute_reply": "2023-06-03T21:30:54.784681Z"
    },
    "papermill": {
     "duration": 0.029794,
     "end_time": "2023-06-03T21:30:54.788327",
     "exception": false,
     "start_time": "2023-06-03T21:30:54.758533",
     "status": "completed"
    },
    "tags": []
   },
   "outputs": [
    {
     "name": "stdout",
     "output_type": "stream",
     "text": [
      "Index(['Ozone', 'Solar.R'], dtype='object')\n"
     ]
    }
   ],
   "source": [
    "missing_values = df.isna().sum()\n",
    "columns_with_missing_values = missing_values[missing_values > 0].index\n",
    "print(columns_with_missing_values)"
   ]
  },
  {
   "cell_type": "markdown",
   "id": "048046f6",
   "metadata": {
    "papermill": {
     "duration": 0.017315,
     "end_time": "2023-06-03T21:30:54.823154",
     "exception": false,
     "start_time": "2023-06-03T21:30:54.805839",
     "status": "completed"
    },
    "tags": []
   },
   "source": [
    "## (o) Do all the attributes are in the most suitable data type? Make the changes you find necessary."
   ]
  },
  {
   "cell_type": "code",
   "execution_count": 15,
   "id": "b9f97ce0",
   "metadata": {
    "execution": {
     "iopub.execute_input": "2023-06-03T21:30:54.862168Z",
     "iopub.status.busy": "2023-06-03T21:30:54.860589Z",
     "iopub.status.idle": "2023-06-03T21:30:54.869480Z",
     "shell.execute_reply": "2023-06-03T21:30:54.868432Z"
    },
    "papermill": {
     "duration": 0.030889,
     "end_time": "2023-06-03T21:30:54.871910",
     "exception": false,
     "start_time": "2023-06-03T21:30:54.841021",
     "status": "completed"
    },
    "tags": []
   },
   "outputs": [
    {
     "data": {
      "text/plain": [
       "Ozone      float64\n",
       "Solar.R    float64\n",
       "Wind       float64\n",
       "Temp         int64\n",
       "Month        int64\n",
       "Day          int64\n",
       "dtype: object"
      ]
     },
     "execution_count": 15,
     "metadata": {},
     "output_type": "execute_result"
    }
   ],
   "source": [
    "df.dtypes"
   ]
  },
  {
   "cell_type": "code",
   "execution_count": 16,
   "id": "1508a8dc",
   "metadata": {
    "execution": {
     "iopub.execute_input": "2023-06-03T21:30:54.910203Z",
     "iopub.status.busy": "2023-06-03T21:30:54.908997Z",
     "iopub.status.idle": "2023-06-03T21:30:54.919192Z",
     "shell.execute_reply": "2023-06-03T21:30:54.917778Z"
    },
    "papermill": {
     "duration": 0.031936,
     "end_time": "2023-06-03T21:30:54.921572",
     "exception": false,
     "start_time": "2023-06-03T21:30:54.889636",
     "status": "completed"
    },
    "tags": []
   },
   "outputs": [
    {
     "name": "stdout",
     "output_type": "stream",
     "text": [
      "Ozone      float64\n",
      "Solar.R    float64\n",
      "Wind       float64\n",
      "Temp         int64\n",
      "Month        int64\n",
      "Day          int64\n",
      "dtype: object\n"
     ]
    }
   ],
   "source": [
    "df['Ozone'] = df['Ozone'].astype(float)\n",
    "df['Solar.R'] = df['Solar.R'].astype(float)\n",
    "df['Wind'] = df['Wind'].astype(float)\n",
    "\n",
    "print(df.dtypes)"
   ]
  },
  {
   "cell_type": "markdown",
   "id": "bf88f4e4",
   "metadata": {
    "papermill": {
     "duration": 0.017586,
     "end_time": "2023-06-03T21:30:54.956961",
     "exception": false,
     "start_time": "2023-06-03T21:30:54.939375",
     "status": "completed"
    },
    "tags": []
   },
   "source": [
    "## (p) What period of the year do these records refer to?"
   ]
  },
  {
   "cell_type": "code",
   "execution_count": 17,
   "id": "fad7a6ca",
   "metadata": {
    "execution": {
     "iopub.execute_input": "2023-06-03T21:30:54.995479Z",
     "iopub.status.busy": "2023-06-03T21:30:54.994490Z",
     "iopub.status.idle": "2023-06-03T21:30:55.003020Z",
     "shell.execute_reply": "2023-06-03T21:30:55.001849Z"
    },
    "papermill": {
     "duration": 0.03081,
     "end_time": "2023-06-03T21:30:55.005832",
     "exception": false,
     "start_time": "2023-06-03T21:30:54.975022",
     "status": "completed"
    },
    "tags": []
   },
   "outputs": [
    {
     "name": "stdout",
     "output_type": "stream",
     "text": [
      "[5 6 7 8 9]\n"
     ]
    }
   ],
   "source": [
    "# Extraer los valores únicos de la columna \"Month\"\n",
    "unique_months = df['Month'].unique()\n",
    "\n",
    "# Imprimir los meses únicos\n",
    "print(unique_months)"
   ]
  },
  {
   "cell_type": "markdown",
   "id": "15d53a44",
   "metadata": {
    "papermill": {
     "duration": 0.017852,
     "end_time": "2023-06-03T21:30:55.044191",
     "exception": false,
     "start_time": "2023-06-03T21:30:55.026339",
     "status": "completed"
    },
    "tags": []
   },
   "source": [
    "## (r) Select the days in May with a temperature above 70 Fahrenheit."
   ]
  },
  {
   "cell_type": "code",
   "execution_count": 18,
   "id": "ca2741ed",
   "metadata": {
    "execution": {
     "iopub.execute_input": "2023-06-03T21:30:55.083633Z",
     "iopub.status.busy": "2023-06-03T21:30:55.083194Z",
     "iopub.status.idle": "2023-06-03T21:30:55.103640Z",
     "shell.execute_reply": "2023-06-03T21:30:55.102127Z"
    },
    "papermill": {
     "duration": 0.043061,
     "end_time": "2023-06-03T21:30:55.106109",
     "exception": false,
     "start_time": "2023-06-03T21:30:55.063048",
     "status": "completed"
    },
    "tags": []
   },
   "outputs": [
    {
     "name": "stdout",
     "output_type": "stream",
     "text": [
      "    Ozone  Solar.R  Wind   Temp  Month  Day\n",
      "0    41.0    190.0   7.4  152.6      5    1\n",
      "1    36.0    118.0   8.0  161.6      5    2\n",
      "2    12.0    149.0  12.6  165.2      5    3\n",
      "3    18.0    313.0  11.5  143.6      5    4\n",
      "4     NaN      NaN  14.3  132.8      5    5\n",
      "5    28.0      NaN  14.9  150.8      5    6\n",
      "6    23.0    299.0   8.6  149.0      5    7\n",
      "7    19.0     99.0  13.8  138.2      5    8\n",
      "8     8.0     19.0  20.1  141.8      5    9\n",
      "9     NaN    194.0   8.6  156.2      5   10\n",
      "10    7.0      NaN   6.9  165.2      5   11\n",
      "11   16.0    256.0   9.7  156.2      5   12\n",
      "12   11.0    290.0   9.2  150.8      5   13\n",
      "13   14.0    274.0  10.9  154.4      5   14\n",
      "14   18.0     65.0  13.2  136.4      5   15\n",
      "15   14.0    334.0  11.5  147.2      5   16\n",
      "16   34.0    307.0  12.0  150.8      5   17\n",
      "17    6.0     78.0  18.4  134.6      5   18\n",
      "18   30.0    322.0  11.5  154.4      5   19\n",
      "19   11.0     44.0   9.7  143.6      5   20\n",
      "20    1.0      8.0   9.7  138.2      5   21\n",
      "21   11.0    320.0  16.6  163.4      5   22\n",
      "22    4.0     25.0   9.7  141.8      5   23\n",
      "23   32.0     92.0  12.0  141.8      5   24\n",
      "24    NaN     66.0  16.6  134.6      5   25\n",
      "25    NaN    266.0  14.9  136.4      5   26\n",
      "26    NaN      NaN   8.0  134.6      5   27\n",
      "27   23.0     13.0  12.0  152.6      5   28\n",
      "28   45.0    252.0  14.9  177.8      5   29\n",
      "29  115.0    223.0   5.7  174.2      5   30\n",
      "30   37.0    279.0   7.4  168.8      5   31\n"
     ]
    }
   ],
   "source": [
    "# Convertir la columna 'Temp' a Fahrenheit si es necesario\n",
    "# Si la temperatura ya está en Fahrenheit, puedes omitir este paso\n",
    "df['Temp'] = (df['Temp'] * 9/5) + 32\n",
    "\n",
    "# Filtrar los datos para mayo y temperatura superior a 70 grados Fahrenheit\n",
    "mayo_mas_70 = df[(df['Month'] == 5) & (df['Temp'] > 70)]\n",
    "\n",
    "# Imprimir los días seleccionados\n",
    "print(mayo_mas_70)"
   ]
  },
  {
   "cell_type": "markdown",
   "id": "7c055caa",
   "metadata": {
    "papermill": {
     "duration": 0.017513,
     "end_time": "2023-06-03T21:30:55.141497",
     "exception": false,
     "start_time": "2023-06-03T21:30:55.123984",
     "status": "completed"
    },
    "tags": []
   },
   "source": [
    "## (s) Create a new attribute TempC which represents the temperature values in Celsius.\n"
   ]
  },
  {
   "cell_type": "code",
   "execution_count": 19,
   "id": "a6f2902c",
   "metadata": {
    "execution": {
     "iopub.execute_input": "2023-06-03T21:30:55.179373Z",
     "iopub.status.busy": "2023-06-03T21:30:55.178661Z",
     "iopub.status.idle": "2023-06-03T21:30:55.201314Z",
     "shell.execute_reply": "2023-06-03T21:30:55.200040Z"
    },
    "papermill": {
     "duration": 0.044846,
     "end_time": "2023-06-03T21:30:55.204081",
     "exception": false,
     "start_time": "2023-06-03T21:30:55.159235",
     "status": "completed"
    },
    "tags": []
   },
   "outputs": [
    {
     "data": {
      "text/html": [
       "<div>\n",
       "<style scoped>\n",
       "    .dataframe tbody tr th:only-of-type {\n",
       "        vertical-align: middle;\n",
       "    }\n",
       "\n",
       "    .dataframe tbody tr th {\n",
       "        vertical-align: top;\n",
       "    }\n",
       "\n",
       "    .dataframe thead th {\n",
       "        text-align: right;\n",
       "    }\n",
       "</style>\n",
       "<table border=\"1\" class=\"dataframe\">\n",
       "  <thead>\n",
       "    <tr style=\"text-align: right;\">\n",
       "      <th></th>\n",
       "      <th>Ozone</th>\n",
       "      <th>Solar.R</th>\n",
       "      <th>Wind</th>\n",
       "      <th>Temp</th>\n",
       "      <th>Month</th>\n",
       "      <th>Day</th>\n",
       "      <th>TempC</th>\n",
       "    </tr>\n",
       "  </thead>\n",
       "  <tbody>\n",
       "    <tr>\n",
       "      <th>0</th>\n",
       "      <td>41.0</td>\n",
       "      <td>190.0</td>\n",
       "      <td>7.4</td>\n",
       "      <td>152.6</td>\n",
       "      <td>5</td>\n",
       "      <td>1</td>\n",
       "      <td>67.0</td>\n",
       "    </tr>\n",
       "    <tr>\n",
       "      <th>1</th>\n",
       "      <td>36.0</td>\n",
       "      <td>118.0</td>\n",
       "      <td>8.0</td>\n",
       "      <td>161.6</td>\n",
       "      <td>5</td>\n",
       "      <td>2</td>\n",
       "      <td>72.0</td>\n",
       "    </tr>\n",
       "    <tr>\n",
       "      <th>2</th>\n",
       "      <td>12.0</td>\n",
       "      <td>149.0</td>\n",
       "      <td>12.6</td>\n",
       "      <td>165.2</td>\n",
       "      <td>5</td>\n",
       "      <td>3</td>\n",
       "      <td>74.0</td>\n",
       "    </tr>\n",
       "    <tr>\n",
       "      <th>3</th>\n",
       "      <td>18.0</td>\n",
       "      <td>313.0</td>\n",
       "      <td>11.5</td>\n",
       "      <td>143.6</td>\n",
       "      <td>5</td>\n",
       "      <td>4</td>\n",
       "      <td>62.0</td>\n",
       "    </tr>\n",
       "    <tr>\n",
       "      <th>4</th>\n",
       "      <td>NaN</td>\n",
       "      <td>NaN</td>\n",
       "      <td>14.3</td>\n",
       "      <td>132.8</td>\n",
       "      <td>5</td>\n",
       "      <td>5</td>\n",
       "      <td>56.0</td>\n",
       "    </tr>\n",
       "    <tr>\n",
       "      <th>...</th>\n",
       "      <td>...</td>\n",
       "      <td>...</td>\n",
       "      <td>...</td>\n",
       "      <td>...</td>\n",
       "      <td>...</td>\n",
       "      <td>...</td>\n",
       "      <td>...</td>\n",
       "    </tr>\n",
       "    <tr>\n",
       "      <th>148</th>\n",
       "      <td>30.0</td>\n",
       "      <td>193.0</td>\n",
       "      <td>6.9</td>\n",
       "      <td>158.0</td>\n",
       "      <td>9</td>\n",
       "      <td>26</td>\n",
       "      <td>70.0</td>\n",
       "    </tr>\n",
       "    <tr>\n",
       "      <th>149</th>\n",
       "      <td>NaN</td>\n",
       "      <td>145.0</td>\n",
       "      <td>13.2</td>\n",
       "      <td>170.6</td>\n",
       "      <td>9</td>\n",
       "      <td>27</td>\n",
       "      <td>77.0</td>\n",
       "    </tr>\n",
       "    <tr>\n",
       "      <th>150</th>\n",
       "      <td>14.0</td>\n",
       "      <td>191.0</td>\n",
       "      <td>14.3</td>\n",
       "      <td>167.0</td>\n",
       "      <td>9</td>\n",
       "      <td>28</td>\n",
       "      <td>75.0</td>\n",
       "    </tr>\n",
       "    <tr>\n",
       "      <th>151</th>\n",
       "      <td>18.0</td>\n",
       "      <td>131.0</td>\n",
       "      <td>8.0</td>\n",
       "      <td>168.8</td>\n",
       "      <td>9</td>\n",
       "      <td>29</td>\n",
       "      <td>76.0</td>\n",
       "    </tr>\n",
       "    <tr>\n",
       "      <th>152</th>\n",
       "      <td>20.0</td>\n",
       "      <td>223.0</td>\n",
       "      <td>11.5</td>\n",
       "      <td>154.4</td>\n",
       "      <td>9</td>\n",
       "      <td>30</td>\n",
       "      <td>68.0</td>\n",
       "    </tr>\n",
       "  </tbody>\n",
       "</table>\n",
       "<p>153 rows × 7 columns</p>\n",
       "</div>"
      ],
      "text/plain": [
       "     Ozone  Solar.R  Wind   Temp  Month  Day  TempC\n",
       "0     41.0    190.0   7.4  152.6      5    1   67.0\n",
       "1     36.0    118.0   8.0  161.6      5    2   72.0\n",
       "2     12.0    149.0  12.6  165.2      5    3   74.0\n",
       "3     18.0    313.0  11.5  143.6      5    4   62.0\n",
       "4      NaN      NaN  14.3  132.8      5    5   56.0\n",
       "..     ...      ...   ...    ...    ...  ...    ...\n",
       "148   30.0    193.0   6.9  158.0      9   26   70.0\n",
       "149    NaN    145.0  13.2  170.6      9   27   77.0\n",
       "150   14.0    191.0  14.3  167.0      9   28   75.0\n",
       "151   18.0    131.0   8.0  168.8      9   29   76.0\n",
       "152   20.0    223.0  11.5  154.4      9   30   68.0\n",
       "\n",
       "[153 rows x 7 columns]"
      ]
     },
     "execution_count": 19,
     "metadata": {},
     "output_type": "execute_result"
    }
   ],
   "source": [
    "# Convertir la columna 'Temp' de Fahrenheit a Celsius\n",
    "df['TempC'] = (df['Temp'] - 32) * 5/9\n",
    "df"
   ]
  },
  {
   "cell_type": "markdown",
   "id": "67e84982",
   "metadata": {
    "papermill": {
     "duration": 0.017825,
     "end_time": "2023-06-03T21:30:55.240338",
     "exception": false,
     "start_time": "2023-06-03T21:30:55.222513",
     "status": "completed"
    },
    "tags": []
   },
   "source": [
    "## (t) Inspect which were the 30 hottest days."
   ]
  },
  {
   "cell_type": "code",
   "execution_count": 20,
   "id": "d9978d78",
   "metadata": {
    "execution": {
     "iopub.execute_input": "2023-06-03T21:30:55.278828Z",
     "iopub.status.busy": "2023-06-03T21:30:55.278351Z",
     "iopub.status.idle": "2023-06-03T21:30:55.298101Z",
     "shell.execute_reply": "2023-06-03T21:30:55.296115Z"
    },
    "papermill": {
     "duration": 0.041935,
     "end_time": "2023-06-03T21:30:55.300503",
     "exception": false,
     "start_time": "2023-06-03T21:30:55.258568",
     "status": "completed"
    },
    "tags": []
   },
   "outputs": [
    {
     "name": "stdout",
     "output_type": "stream",
     "text": [
      "     Ozone  Solar.R  Wind   Temp  Month  Day  TempC\n",
      "119   76.0    203.0   9.7  206.6      8   28   97.0\n",
      "121   84.0    237.0   6.3  204.8      8   30   96.0\n",
      "122   85.0    188.0   6.3  201.2      8   31   94.0\n",
      "120  118.0    225.0   2.3  201.2      8   29   94.0\n",
      "41     NaN    259.0  10.9  199.4      6   11   93.0\n",
      "126   91.0    189.0   4.6  199.4      9    4   93.0\n",
      "125   73.0    183.0   2.8  199.4      9    3   93.0\n",
      "124   78.0    197.0   5.1  197.6      9    2   92.0\n",
      "42     NaN    250.0   9.2  197.6      6   12   92.0\n",
      "101    NaN    222.0   8.6  197.6      8   10   92.0\n",
      "68    97.0    267.0   6.3  197.6      7    8   92.0\n",
      "69    97.0    272.0   5.7  197.6      7    9   92.0\n",
      "74     NaN    291.0  14.9  195.8      7   14   91.0\n",
      "123   96.0    167.0   6.9  195.8      9    1   91.0\n",
      "39    71.0    291.0  13.8  194.0      6    9   90.0\n",
      "100  110.0    207.0   8.0  194.0      8    9   90.0\n",
      "99    89.0    229.0  10.3  194.0      8    8   90.0\n",
      "70    85.0    175.0   7.4  192.2      7   10   89.0\n",
      "98   122.0    255.0   4.0  192.2      8    7   89.0\n",
      "118    NaN    153.0   5.7  190.4      8   27   88.0\n",
      "88    82.0    213.0   7.4  190.4      7   28   88.0\n",
      "67    77.0    276.0   5.1  190.4      7    7   88.0\n",
      "40    39.0    323.0  11.5  188.6      6   10   87.0\n",
      "127   47.0     95.0   7.4  188.6      9    5   87.0\n",
      "97    66.0      NaN   4.6  188.6      8    6   87.0\n",
      "79    79.0    187.0   5.1  188.6      7   19   87.0\n",
      "38     NaN    273.0   6.9  188.6      6    8   87.0\n",
      "84    80.0    294.0   8.6  186.8      7   24   86.0\n",
      "102    NaN    137.0  11.5  186.8      8   11   86.0\n",
      "103   44.0    192.0  11.5  186.8      8   12   86.0\n"
     ]
    }
   ],
   "source": [
    "# Ordenar el DataFrame por la columna 'Temp' en orden descendente\n",
    "df_sorted = df.sort_values('Temp', ascending=False)\n",
    "\n",
    "# Obtener los 30 días más calurosos\n",
    "hottest_days = df_sorted.head(30)\n",
    "\n",
    "# Imprimir los 30 días más calurosos\n",
    "print(hottest_days)"
   ]
  },
  {
   "cell_type": "markdown",
   "id": "7eb806fd",
   "metadata": {
    "papermill": {
     "duration": 0.018047,
     "end_time": "2023-06-03T21:30:55.336933",
     "exception": false,
     "start_time": "2023-06-03T21:30:55.318886",
     "status": "completed"
    },
    "tags": []
   },
   "source": [
    "## (u) Inspect which were the hottest days, but also with the highest ozone values"
   ]
  },
  {
   "cell_type": "code",
   "execution_count": 21,
   "id": "3bef2ce7",
   "metadata": {
    "execution": {
     "iopub.execute_input": "2023-06-03T21:30:55.375619Z",
     "iopub.status.busy": "2023-06-03T21:30:55.374863Z",
     "iopub.status.idle": "2023-06-03T21:30:55.392177Z",
     "shell.execute_reply": "2023-06-03T21:30:55.390775Z"
    },
    "papermill": {
     "duration": 0.039261,
     "end_time": "2023-06-03T21:30:55.394613",
     "exception": false,
     "start_time": "2023-06-03T21:30:55.355352",
     "status": "completed"
    },
    "tags": []
   },
   "outputs": [
    {
     "name": "stdout",
     "output_type": "stream",
     "text": [
      "     Ozone  Solar.R  Wind   Temp  Month  Day  TempC\n",
      "119   76.0    203.0   9.7  206.6      8   28   97.0\n",
      "121   84.0    237.0   6.3  204.8      8   30   96.0\n",
      "120  118.0    225.0   2.3  201.2      8   29   94.0\n",
      "122   85.0    188.0   6.3  201.2      8   31   94.0\n",
      "126   91.0    189.0   4.6  199.4      9    4   93.0\n"
     ]
    }
   ],
   "source": [
    "# Ordenar el DataFrame por las columnas 'Temp' y 'Ozone' en orden descendente\n",
    "df_sorted = df.sort_values(['Temp', 'Ozone'], ascending=False)\n",
    "\n",
    "# Obtener los días más calurosos con los valores más altos de ozono\n",
    "hottest_days_with_high_ozone = df_sorted.head()\n",
    "\n",
    "# Imprimir los días más calurosos con los valores más altos de ozono\n",
    "print(hottest_days_with_high_ozone)"
   ]
  },
  {
   "cell_type": "markdown",
   "id": "6ed9e4ac",
   "metadata": {
    "papermill": {
     "duration": 0.018703,
     "end_time": "2023-06-03T21:30:55.432333",
     "exception": false,
     "start_time": "2023-06-03T21:30:55.413630",
     "status": "completed"
    },
    "tags": []
   },
   "source": [
    "## (v) Inspect the number of days for which there was a register for each month."
   ]
  },
  {
   "cell_type": "code",
   "execution_count": 22,
   "id": "ae7b0f7a",
   "metadata": {
    "execution": {
     "iopub.execute_input": "2023-06-03T21:30:55.472870Z",
     "iopub.status.busy": "2023-06-03T21:30:55.471886Z",
     "iopub.status.idle": "2023-06-03T21:30:55.480964Z",
     "shell.execute_reply": "2023-06-03T21:30:55.479833Z"
    },
    "papermill": {
     "duration": 0.031389,
     "end_time": "2023-06-03T21:30:55.483175",
     "exception": false,
     "start_time": "2023-06-03T21:30:55.451786",
     "status": "completed"
    },
    "tags": []
   },
   "outputs": [
    {
     "name": "stdout",
     "output_type": "stream",
     "text": [
      "5    31\n",
      "6    30\n",
      "7    31\n",
      "8    31\n",
      "9    30\n",
      "Name: Month, dtype: int64\n"
     ]
    }
   ],
   "source": [
    "# Contar el número de registros para cada mes\n",
    "count_per_month = df['Month'].value_counts().sort_index()\n",
    "\n",
    "# Imprimir el número de días para cada mes\n",
    "print(count_per_month)"
   ]
  },
  {
   "cell_type": "markdown",
   "id": "e126ad0d",
   "metadata": {
    "papermill": {
     "duration": 0.01835,
     "end_time": "2023-06-03T21:30:55.520652",
     "exception": false,
     "start_time": "2023-06-03T21:30:55.502302",
     "status": "completed"
    },
    "tags": []
   },
   "source": [
    "## (w) For each month, obtain the minimum and the maximum temperature registered in Celsius"
   ]
  },
  {
   "cell_type": "code",
   "execution_count": 23,
   "id": "8a617c18",
   "metadata": {
    "execution": {
     "iopub.execute_input": "2023-06-03T21:30:55.560488Z",
     "iopub.status.busy": "2023-06-03T21:30:55.559370Z",
     "iopub.status.idle": "2023-06-03T21:30:55.578872Z",
     "shell.execute_reply": "2023-06-03T21:30:55.577290Z"
    },
    "papermill": {
     "duration": 0.042584,
     "end_time": "2023-06-03T21:30:55.581848",
     "exception": false,
     "start_time": "2023-06-03T21:30:55.539264",
     "status": "completed"
    },
    "tags": []
   },
   "outputs": [
    {
     "name": "stdout",
     "output_type": "stream",
     "text": [
      "        min   max\n",
      "Month            \n",
      "5      56.0  81.0\n",
      "6      65.0  93.0\n",
      "7      73.0  92.0\n",
      "8      72.0  97.0\n",
      "9      63.0  93.0\n"
     ]
    }
   ],
   "source": [
    "# Agrupar los datos por mes y calcular la temperatura mínima y máxima\n",
    "temperature_stats = df.groupby('Month')['TempC'].agg(['min', 'max'])\n",
    "\n",
    "# Imprimir las estadísticas de temperatura por mes\n",
    "print(temperature_stats)"
   ]
  },
  {
   "cell_type": "markdown",
   "id": "b7d811c4",
   "metadata": {
    "papermill": {
     "duration": 0.018968,
     "end_time": "2023-06-03T21:30:55.619631",
     "exception": false,
     "start_time": "2023-06-03T21:30:55.600663",
     "status": "completed"
    },
    "tags": []
   },
   "source": [
    "## (x) Obtain the average of the following parameters by month: temperature in celsius, wind, solar radiation and ozone.\n"
   ]
  },
  {
   "cell_type": "code",
   "execution_count": 24,
   "id": "1c1464ab",
   "metadata": {
    "execution": {
     "iopub.execute_input": "2023-06-03T21:30:55.659558Z",
     "iopub.status.busy": "2023-06-03T21:30:55.659161Z",
     "iopub.status.idle": "2023-06-03T21:30:55.672119Z",
     "shell.execute_reply": "2023-06-03T21:30:55.670650Z"
    },
    "papermill": {
     "duration": 0.035468,
     "end_time": "2023-06-03T21:30:55.674462",
     "exception": false,
     "start_time": "2023-06-03T21:30:55.638994",
     "status": "completed"
    },
    "tags": []
   },
   "outputs": [
    {
     "name": "stdout",
     "output_type": "stream",
     "text": [
      "           TempC       Wind     Solar.R      Ozone\n",
      "Month                                             \n",
      "5      65.548387  11.622581  181.296296  23.615385\n",
      "6      79.100000  10.266667  190.166667  29.444444\n",
      "7      83.903226   8.941935  216.483871  59.115385\n",
      "8      83.967742   8.793548  171.857143  59.961538\n",
      "9      76.900000  10.180000  167.433333  31.448276\n"
     ]
    }
   ],
   "source": [
    "# Agrupar los datos por mes y calcular el promedio de los parámetros\n",
    "average_params = df.groupby('Month')[['TempC', 'Wind', 'Solar.R', 'Ozone']].mean()\n",
    "\n",
    "# Imprimir el promedio de los parámetros por mes\n",
    "print(average_params)\n"
   ]
  },
  {
   "cell_type": "markdown",
   "id": "5a7bdfb7",
   "metadata": {
    "papermill": {
     "duration": 0.018536,
     "end_time": "2023-06-03T21:30:55.711854",
     "exception": false,
     "start_time": "2023-06-03T21:30:55.693318",
     "status": "completed"
    },
    "tags": []
   },
   "source": [
    "## (y) What values did you obtain regarding ozone and solar radiation attributes? Why? Make the necessary change so that you get the average of the registered values."
   ]
  },
  {
   "cell_type": "code",
   "execution_count": 25,
   "id": "536856ea",
   "metadata": {
    "execution": {
     "iopub.execute_input": "2023-06-03T21:30:55.751262Z",
     "iopub.status.busy": "2023-06-03T21:30:55.750870Z",
     "iopub.status.idle": "2023-06-03T21:30:55.759503Z",
     "shell.execute_reply": "2023-06-03T21:30:55.758390Z"
    },
    "papermill": {
     "duration": 0.031653,
     "end_time": "2023-06-03T21:30:55.762249",
     "exception": false,
     "start_time": "2023-06-03T21:30:55.730596",
     "status": "completed"
    },
    "tags": []
   },
   "outputs": [
    {
     "name": "stdout",
     "output_type": "stream",
     "text": [
      "Promedio de ozono: 42.12931034482759\n",
      "Promedio de radiación solar: 185.93150684931507\n"
     ]
    }
   ],
   "source": [
    "# Reemplazar los valores faltantes con NaN\n",
    "df['Ozone'] = df['Ozone'].replace(-999, np.nan)\n",
    "df['Solar.R'] = df['Solar.R'].replace(-999, np.nan)\n",
    "\n",
    "# Calcular el promedio de los atributos de ozono y radiación solar\n",
    "average_ozone = df['Ozone'].mean()\n",
    "average_solar_radiation = df['Solar.R'].mean()\n",
    "\n",
    "# Imprimir los valores promedio de ozono y radiación solar\n",
    "print(\"Promedio de ozono:\", average_ozone)\n",
    "print(\"Promedio de radiación solar:\", average_solar_radiation)"
   ]
  }
 ],
 "metadata": {
  "kernelspec": {
   "display_name": "Python 3",
   "language": "python",
   "name": "python3"
  },
  "language_info": {
   "codemirror_mode": {
    "name": "ipython",
    "version": 3
   },
   "file_extension": ".py",
   "mimetype": "text/x-python",
   "name": "python",
   "nbconvert_exporter": "python",
   "pygments_lexer": "ipython3",
   "version": "3.10.10"
  },
  "papermill": {
   "default_parameters": {},
   "duration": 17.441554,
   "end_time": "2023-06-03T21:30:56.704029",
   "environment_variables": {},
   "exception": null,
   "input_path": "__notebook__.ipynb",
   "output_path": "__notebook__.ipynb",
   "parameters": {},
   "start_time": "2023-06-03T21:30:39.262475",
   "version": "2.4.0"
  }
 },
 "nbformat": 4,
 "nbformat_minor": 5
}
