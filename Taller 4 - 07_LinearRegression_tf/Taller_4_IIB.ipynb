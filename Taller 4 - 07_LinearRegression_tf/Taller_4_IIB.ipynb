{
  "nbformat": 4,
  "nbformat_minor": 0,
  "metadata": {
    "colab": {
      "provenance": []
    },
    "kernelspec": {
      "name": "python3",
      "display_name": "Python 3"
    },
    "language_info": {
      "name": "python"
    }
  },
  "cells": [
    {
      "cell_type": "markdown",
      "source": [
        "#7 Linear Regression with TensorFlow using the California Housing Dataset"
      ],
      "metadata": {
        "id": "-3yTpH1oNcWS"
      }
    },
    {
      "cell_type": "code",
      "execution_count": 110,
      "metadata": {
        "id": "AbasNMfBNKeA"
      },
      "outputs": [],
      "source": [
        "import tensorflow as tf\n",
        "import pandas as pd\n",
        "import numpy as np\n",
        "from sklearn.datasets import fetch_california_housing\n",
        "from sklearn.preprocessing import StandardScaler\n",
        "from sklearn.model_selection import train_test_split\n",
        "from sklearn.metrics import mean_squared_error"
      ]
    },
    {
      "cell_type": "code",
      "source": [
        "raw = fetch_california_housing()\n",
        "X = pd.DataFrame(data=raw['data'], columns=raw['feature_names'])\n",
        "y = pd.Series(raw['target'])"
      ],
      "metadata": {
        "id": "YnWz4MYbNkTp"
      },
      "execution_count": 111,
      "outputs": []
    },
    {
      "cell_type": "code",
      "source": [
        "# Dividir el conjunto de datos en conjuntos de entrenamiento y prueba\n",
        "X_train, X_test, y_train, y_test = train_test_split(X_scaled, y, test_size=0.2, random_state=1)\n"
      ],
      "metadata": {
        "id": "BRqgR64yORMp"
      },
      "execution_count": 112,
      "outputs": []
    },
    {
      "cell_type": "code",
      "source": [
        "# Normalizar las características utilizando la media y la desviación estándar\n",
        "scaler = StandardScaler()\n",
        "X_scaled = scaler.fit_transform(X)\n"
      ],
      "metadata": {
        "id": "1lCTdCmkN3uB"
      },
      "execution_count": 61,
      "outputs": []
    },
    {
      "cell_type": "code",
      "source": [
        "# Definir el modelo de regresión lineal con arquitectura modificada\n",
        "model = tf.keras.Sequential([\n",
        "    tf.keras.layers.Dense(64, activation='relu', input_shape=(X_train.shape[1],)),\n",
        "    tf.keras.layers.Dense(32, activation='relu'),\n",
        "    tf.keras.layers.Dense(1)\n",
        "])"
      ],
      "metadata": {
        "id": "JoPIjCqHOUVx"
      },
      "execution_count": 62,
      "outputs": []
    },
    {
      "cell_type": "code",
      "source": [
        "# Agregar regularización L2 a las capas\n",
        "regularizer = tf.keras.regularizers.l2(0.01)\n",
        "for layer in model.layers:\n",
        "    if isinstance(layer, tf.keras.layers.Dense):\n",
        "        layer.kernel_regularizer = regularizer"
      ],
      "metadata": {
        "id": "ugsJN1hQQBuf"
      },
      "execution_count": 63,
      "outputs": []
    },
    {
      "cell_type": "code",
      "source": [
        "# Compilar el modelo con el optimizador Adam y un learning rate de 0.01\n",
        "optimizer = tf.keras.optimizers.Adam(learning_rate=0.01)\n",
        "model.compile(optimizer=optimizer, loss='mean_squared_error')"
      ],
      "metadata": {
        "id": "IKVObJf3OYHY"
      },
      "execution_count": 64,
      "outputs": []
    },
    {
      "cell_type": "code",
      "source": [
        "# Entrenar el modelo durante 2000 épocas con un batch size de 32\n",
        "model.fit(X_train, y_train, batch_size=30, epochs=100, verbose=1)"
      ],
      "metadata": {
        "colab": {
          "base_uri": "https://localhost:8080/"
        },
        "id": "Py2gHS0qOgsA",
        "outputId": "91e7d5b8-1d70-469f-9322-6f4b259804ad"
      },
      "execution_count": 65,
      "outputs": [
        {
          "output_type": "stream",
          "name": "stdout",
          "text": [
            "Epoch 1/100\n",
            "551/551 [==============================] - 2s 2ms/step - loss: 0.4892\n",
            "Epoch 2/100\n",
            "551/551 [==============================] - 1s 2ms/step - loss: 0.3776\n",
            "Epoch 3/100\n",
            "551/551 [==============================] - 1s 2ms/step - loss: 0.3524\n",
            "Epoch 4/100\n",
            "551/551 [==============================] - 2s 3ms/step - loss: 0.3465\n",
            "Epoch 5/100\n",
            "551/551 [==============================] - 1s 2ms/step - loss: 0.3275\n",
            "Epoch 6/100\n",
            "551/551 [==============================] - 1s 2ms/step - loss: 0.3138\n",
            "Epoch 7/100\n",
            "551/551 [==============================] - 1s 2ms/step - loss: 0.3172\n",
            "Epoch 8/100\n",
            "551/551 [==============================] - 1s 2ms/step - loss: 0.3048\n",
            "Epoch 9/100\n",
            "551/551 [==============================] - 1s 2ms/step - loss: 0.2989\n",
            "Epoch 10/100\n",
            "551/551 [==============================] - 1s 2ms/step - loss: 0.2961\n",
            "Epoch 11/100\n",
            "551/551 [==============================] - 1s 2ms/step - loss: 0.2947\n",
            "Epoch 12/100\n",
            "551/551 [==============================] - 1s 2ms/step - loss: 0.2906\n",
            "Epoch 13/100\n",
            "551/551 [==============================] - 1s 2ms/step - loss: 0.3104\n",
            "Epoch 14/100\n",
            "551/551 [==============================] - 1s 2ms/step - loss: 0.2931\n",
            "Epoch 15/100\n",
            "551/551 [==============================] - 1s 2ms/step - loss: 0.2869\n",
            "Epoch 16/100\n",
            "551/551 [==============================] - 1s 3ms/step - loss: 0.2819\n",
            "Epoch 17/100\n",
            "551/551 [==============================] - 1s 2ms/step - loss: 0.2829\n",
            "Epoch 18/100\n",
            "551/551 [==============================] - 1s 2ms/step - loss: 0.2751\n",
            "Epoch 19/100\n",
            "551/551 [==============================] - 1s 2ms/step - loss: 0.2747\n",
            "Epoch 20/100\n",
            "551/551 [==============================] - 1s 2ms/step - loss: 0.2753\n",
            "Epoch 21/100\n",
            "551/551 [==============================] - 1s 2ms/step - loss: 0.2757\n",
            "Epoch 22/100\n",
            "551/551 [==============================] - 1s 2ms/step - loss: 0.2741\n",
            "Epoch 23/100\n",
            "551/551 [==============================] - 1s 2ms/step - loss: 0.2711\n",
            "Epoch 24/100\n",
            "551/551 [==============================] - 1s 2ms/step - loss: 0.2719\n",
            "Epoch 25/100\n",
            "551/551 [==============================] - 1s 2ms/step - loss: 0.2714\n",
            "Epoch 26/100\n",
            "551/551 [==============================] - 1s 2ms/step - loss: 0.2708\n",
            "Epoch 27/100\n",
            "551/551 [==============================] - 1s 2ms/step - loss: 0.2673\n",
            "Epoch 28/100\n",
            "551/551 [==============================] - 1s 2ms/step - loss: 0.2704\n",
            "Epoch 29/100\n",
            "551/551 [==============================] - 1s 2ms/step - loss: 0.2721\n",
            "Epoch 30/100\n",
            "551/551 [==============================] - 1s 2ms/step - loss: 0.2657\n",
            "Epoch 31/100\n",
            "551/551 [==============================] - 1s 2ms/step - loss: 0.2644\n",
            "Epoch 32/100\n",
            "551/551 [==============================] - 1s 2ms/step - loss: 0.2652\n",
            "Epoch 33/100\n",
            "551/551 [==============================] - 1s 2ms/step - loss: 0.2662\n",
            "Epoch 34/100\n",
            "551/551 [==============================] - 1s 2ms/step - loss: 0.2652\n",
            "Epoch 35/100\n",
            "551/551 [==============================] - 1s 2ms/step - loss: 0.2604\n",
            "Epoch 36/100\n",
            "551/551 [==============================] - 1s 2ms/step - loss: 0.2656\n",
            "Epoch 37/100\n",
            "551/551 [==============================] - 1s 2ms/step - loss: 0.2649\n",
            "Epoch 38/100\n",
            "551/551 [==============================] - 1s 2ms/step - loss: 0.2636\n",
            "Epoch 39/100\n",
            "551/551 [==============================] - 1s 2ms/step - loss: 0.2609\n",
            "Epoch 40/100\n",
            "551/551 [==============================] - 1s 3ms/step - loss: 0.2590\n",
            "Epoch 41/100\n",
            "551/551 [==============================] - 1s 2ms/step - loss: 0.2630\n",
            "Epoch 42/100\n",
            "551/551 [==============================] - 1s 2ms/step - loss: 0.2605\n",
            "Epoch 43/100\n",
            "551/551 [==============================] - 1s 2ms/step - loss: 0.2603\n",
            "Epoch 44/100\n",
            "551/551 [==============================] - 1s 2ms/step - loss: 0.2590\n",
            "Epoch 45/100\n",
            "551/551 [==============================] - 1s 2ms/step - loss: 0.2602\n",
            "Epoch 46/100\n",
            "551/551 [==============================] - 1s 2ms/step - loss: 0.2621\n",
            "Epoch 47/100\n",
            "551/551 [==============================] - 1s 2ms/step - loss: 0.2570\n",
            "Epoch 48/100\n",
            "551/551 [==============================] - 1s 2ms/step - loss: 0.2552\n",
            "Epoch 49/100\n",
            "551/551 [==============================] - 1s 2ms/step - loss: 0.2537\n",
            "Epoch 50/100\n",
            "551/551 [==============================] - 1s 2ms/step - loss: 0.2561\n",
            "Epoch 51/100\n",
            "551/551 [==============================] - 1s 2ms/step - loss: 0.2588\n",
            "Epoch 52/100\n",
            "551/551 [==============================] - 1s 3ms/step - loss: 0.2571\n",
            "Epoch 53/100\n",
            "551/551 [==============================] - 1s 2ms/step - loss: 0.2577\n",
            "Epoch 54/100\n",
            "551/551 [==============================] - 1s 2ms/step - loss: 0.2573\n",
            "Epoch 55/100\n",
            "551/551 [==============================] - 1s 2ms/step - loss: 0.2524\n",
            "Epoch 56/100\n",
            "551/551 [==============================] - 1s 2ms/step - loss: 0.2538\n",
            "Epoch 57/100\n",
            "551/551 [==============================] - 1s 2ms/step - loss: 0.2581\n",
            "Epoch 58/100\n",
            "551/551 [==============================] - 1s 2ms/step - loss: 0.2581\n",
            "Epoch 59/100\n",
            "551/551 [==============================] - 1s 2ms/step - loss: 0.2564\n",
            "Epoch 60/100\n",
            "551/551 [==============================] - 1s 2ms/step - loss: 0.2581\n",
            "Epoch 61/100\n",
            "551/551 [==============================] - 1s 2ms/step - loss: 0.2536\n",
            "Epoch 62/100\n",
            "551/551 [==============================] - 1s 2ms/step - loss: 0.2554\n",
            "Epoch 63/100\n",
            "551/551 [==============================] - 1s 2ms/step - loss: 0.2523\n",
            "Epoch 64/100\n",
            "551/551 [==============================] - 1s 3ms/step - loss: 0.2527\n",
            "Epoch 65/100\n",
            "551/551 [==============================] - 1s 2ms/step - loss: 0.2525\n",
            "Epoch 66/100\n",
            "551/551 [==============================] - 1s 2ms/step - loss: 0.2534\n",
            "Epoch 67/100\n",
            "551/551 [==============================] - 1s 2ms/step - loss: 0.2533\n",
            "Epoch 68/100\n",
            "551/551 [==============================] - 1s 2ms/step - loss: 0.2510\n",
            "Epoch 69/100\n",
            "551/551 [==============================] - 1s 2ms/step - loss: 0.2524\n",
            "Epoch 70/100\n",
            "551/551 [==============================] - 1s 2ms/step - loss: 0.2526\n",
            "Epoch 71/100\n",
            "551/551 [==============================] - 1s 2ms/step - loss: 0.2518\n",
            "Epoch 72/100\n",
            "551/551 [==============================] - 1s 2ms/step - loss: 0.2516\n",
            "Epoch 73/100\n",
            "551/551 [==============================] - 1s 2ms/step - loss: 0.2512\n",
            "Epoch 74/100\n",
            "551/551 [==============================] - 1s 2ms/step - loss: 0.2566\n",
            "Epoch 75/100\n",
            "551/551 [==============================] - 1s 2ms/step - loss: 0.2550\n",
            "Epoch 76/100\n",
            "551/551 [==============================] - 1s 2ms/step - loss: 0.2523\n",
            "Epoch 77/100\n",
            "551/551 [==============================] - 1s 3ms/step - loss: 0.2520\n",
            "Epoch 78/100\n",
            "551/551 [==============================] - 1s 2ms/step - loss: 0.2515\n",
            "Epoch 79/100\n",
            "551/551 [==============================] - 1s 2ms/step - loss: 0.2521\n",
            "Epoch 80/100\n",
            "551/551 [==============================] - 1s 2ms/step - loss: 0.2505\n",
            "Epoch 81/100\n",
            "551/551 [==============================] - 1s 2ms/step - loss: 0.2494\n",
            "Epoch 82/100\n",
            "551/551 [==============================] - 1s 2ms/step - loss: 0.2488\n",
            "Epoch 83/100\n",
            "551/551 [==============================] - 1s 2ms/step - loss: 0.2463\n",
            "Epoch 84/100\n",
            "551/551 [==============================] - 1s 2ms/step - loss: 0.2492\n",
            "Epoch 85/100\n",
            "551/551 [==============================] - 1s 2ms/step - loss: 0.2535\n",
            "Epoch 86/100\n",
            "551/551 [==============================] - 1s 2ms/step - loss: 0.2484\n",
            "Epoch 87/100\n",
            "551/551 [==============================] - 1s 2ms/step - loss: 0.2499\n",
            "Epoch 88/100\n",
            "551/551 [==============================] - 2s 3ms/step - loss: 0.2473\n",
            "Epoch 89/100\n",
            "551/551 [==============================] - 2s 3ms/step - loss: 0.2506\n",
            "Epoch 90/100\n",
            "551/551 [==============================] - 1s 2ms/step - loss: 0.2474\n",
            "Epoch 91/100\n",
            "551/551 [==============================] - 1s 2ms/step - loss: 0.2472\n",
            "Epoch 92/100\n",
            "551/551 [==============================] - 1s 2ms/step - loss: 0.2476\n",
            "Epoch 93/100\n",
            "551/551 [==============================] - 1s 2ms/step - loss: 0.2474\n",
            "Epoch 94/100\n",
            "551/551 [==============================] - 1s 2ms/step - loss: 0.2476\n",
            "Epoch 95/100\n",
            "551/551 [==============================] - 1s 2ms/step - loss: 0.2471\n",
            "Epoch 96/100\n",
            "551/551 [==============================] - 1s 2ms/step - loss: 0.2480\n",
            "Epoch 97/100\n",
            "551/551 [==============================] - 1s 2ms/step - loss: 0.2447\n",
            "Epoch 98/100\n",
            "551/551 [==============================] - 1s 2ms/step - loss: 0.2503\n",
            "Epoch 99/100\n",
            "551/551 [==============================] - 1s 2ms/step - loss: 0.2448\n",
            "Epoch 100/100\n",
            "551/551 [==============================] - 1s 3ms/step - loss: 0.2447\n"
          ]
        },
        {
          "output_type": "execute_result",
          "data": {
            "text/plain": [
              "<keras.callbacks.History at 0x7c30f3b4a050>"
            ]
          },
          "metadata": {},
          "execution_count": 65
        }
      ]
    },
    {
      "cell_type": "code",
      "source": [
        "# Evaluación del modelo en el conjunto de prueba\n",
        "test_loss = model.evaluate(X_test, y_test)\n",
        "print('Test Loss:', test_loss)"
      ],
      "metadata": {
        "colab": {
          "base_uri": "https://localhost:8080/"
        },
        "id": "zTxPx8-GZsf5",
        "outputId": "2a43b317-edc6-4bc2-e5ab-00d7a03652a1"
      },
      "execution_count": 66,
      "outputs": [
        {
          "output_type": "stream",
          "name": "stdout",
          "text": [
            "129/129 [==============================] - 0s 2ms/step - loss: 0.2915\n",
            "Test Loss: 0.2914801836013794\n"
          ]
        }
      ]
    },
    {
      "cell_type": "code",
      "source": [
        "# Evaluar el modelo en el conjunto de prueba\n",
        "y_pred_test = model.predict(X_test)\n",
        "mse = mean_squared_error(y_test, y_pred_test)\n",
        "print('MSE:', mse)"
      ],
      "metadata": {
        "colab": {
          "base_uri": "https://localhost:8080/"
        },
        "id": "lOPfZ2h8dEQ_",
        "outputId": "139ed1c8-5f5d-404c-c66d-991ac8735142"
      },
      "execution_count": 67,
      "outputs": [
        {
          "output_type": "stream",
          "name": "stdout",
          "text": [
            "129/129 [==============================] - 0s 2ms/step\n",
            "MSE: 0.2914801607814419\n"
          ]
        }
      ]
    }
  ]
}